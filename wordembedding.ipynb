{
 "cells": [
  {
   "cell_type": "code",
   "execution_count": 1,
   "id": "0fcf7342-f0c6-44f2-ae54-c7ac2fc1ffbe",
   "metadata": {},
   "outputs": [],
   "source": [
    "import matplotlib.pyplot as plt\n",
    "import os\n",
    "import re\n",
    "import shutil\n",
    "import string\n",
    "import tensorflow as tf\n",
    "\n",
    "from tensorflow.keras import layers\n",
    "from tensorflow.keras import losses"
   ]
  },
  {
   "cell_type": "code",
   "execution_count": 2,
   "id": "e4768554-6657-4045-9b67-7af8b24cb4ba",
   "metadata": {},
   "outputs": [
    {
     "name": "stdout",
     "output_type": "stream",
     "text": [
      "Downloading data from https://ai.stanford.edu/~amaas/data/sentiment/aclImdb_v1.tar.gz\n",
      "84125825/84125825 [==============================] - 13s 0us/step\n"
     ]
    },
    {
     "data": {
      "text/plain": [
       "['imdb.vocab', 'imdbEr.txt', 'README', 'test', 'train']"
      ]
     },
     "execution_count": 2,
     "metadata": {},
     "output_type": "execute_result"
    }
   ],
   "source": [
    "url = \"https://ai.stanford.edu/~amaas/data/sentiment/aclImdb_v1.tar.gz\"\n",
    "dataset = tf.keras.utils.get_file(\"aclImdb_v1\", url, untar=True, cache_dir='.', cache_subdir='')\n",
    "dataset_dir = os.path.join(os.path.dirname(dataset), 'aclImdb')\n",
    "os.listdir(dataset_dir)"
   ]
  },
  {
   "cell_type": "code",
   "execution_count": 3,
   "id": "49ea6af3-88bd-4b70-b466-90fe4ca0d6cf",
   "metadata": {},
   "outputs": [
    {
     "data": {
      "text/plain": [
       "['labeledBow.feat',\n",
       " 'neg',\n",
       " 'pos',\n",
       " 'unsup',\n",
       " 'unsupBow.feat',\n",
       " 'urls_neg.txt',\n",
       " 'urls_pos.txt',\n",
       " 'urls_unsup.txt']"
      ]
     },
     "execution_count": 3,
     "metadata": {},
     "output_type": "execute_result"
    }
   ],
   "source": [
    "train_dir = os.path.join(dataset_dir, 'train')\n",
    "os.listdir(train_dir)"
   ]
  },
  {
   "cell_type": "markdown",
   "id": "a4012313-64fe-48e8-b811-60c14d241a2b",
   "metadata": {},
   "source": [
    "Removing unnecessary folder"
   ]
  },
  {
   "cell_type": "code",
   "execution_count": 5,
   "id": "cb731098-3ca0-496b-b295-dcfbf6063116",
   "metadata": {},
   "outputs": [],
   "source": [
    "remove_dir = os.path.join(train_dir, 'unsup')\n",
    "shutil.rmtree(remove_dir)"
   ]
  },
  {
   "cell_type": "code",
   "execution_count": 13,
   "id": "1cdbd7c6-0207-454b-b184-e5a6bb0acd2b",
   "metadata": {},
   "outputs": [
    {
     "name": "stdout",
     "output_type": "stream",
     "text": [
      "Found 25000 files belonging to 2 classes.\n",
      "Using 20000 files for training.\n",
      "Found 25000 files belonging to 2 classes.\n",
      "Using 5000 files for validation.\n",
      "Found 25000 files belonging to 2 classes.\n"
     ]
    }
   ],
   "source": [
    "batch_size = 32\n",
    "seed = 42\n",
    "\n",
    "raw_train_ds = tf.keras.utils.text_dataset_from_directory('aclImdb/train', batch_size=batch_size, validation_split=0.2, subset='training', seed=seed)\n",
    "raw_val_ds = tf.keras.utils.text_dataset_from_directory('aclImdb/train', batch_size=batch_size, validation_split=0.2, subset='validation', seed=seed)\n",
    "raw_test_ds = tf.keras.utils.text_dataset_from_directory('aclImdb/test', batch_size=batch_size)"
   ]
  },
  {
   "cell_type": "code",
   "execution_count": 9,
   "id": "334a75e1-1cb5-4edb-b404-813856be65b4",
   "metadata": {},
   "outputs": [
    {
     "name": "stdout",
     "output_type": "stream",
     "text": [
      "Label 0 corresponds to neg\n",
      "Label 1 corresponds to pos\n"
     ]
    }
   ],
   "source": [
    "print(\"Label 0 corresponds to\", raw_train_ds.class_names[0])\n",
    "print(\"Label 1 corresponds to\", raw_train_ds.class_names[1])"
   ]
  },
  {
   "cell_type": "markdown",
   "id": "9f2f50cd-f15e-4e95-91cf-d426c899b1fc",
   "metadata": {},
   "source": [
    "Lets see some examples"
   ]
  },
  {
   "cell_type": "code",
   "execution_count": 10,
   "id": "eb4c6651-214a-41e0-bb01-fb8e3b31c61a",
   "metadata": {},
   "outputs": [
    {
     "name": "stdout",
     "output_type": "stream",
     "text": [
      "Review b'\"Pandemonium\" is a horror movie spoof that comes off more stupid than funny. Believe me when I tell you, I love comedies. Especially comedy spoofs. \"Airplane\", \"The Naked Gun\" trilogy, \"Blazing Saddles\", \"High Anxiety\", and \"Spaceballs\" are some of my favorite comedies that spoof a particular genre. \"Pandemonium\" is not up there with those films. Most of the scenes in this movie had me sitting there in stunned silence because the movie wasn\\'t all that funny. There are a few laughs in the film, but when you watch a comedy, you expect to laugh a lot more than a few times and that\\'s all this film has going for it. Geez, \"Scream\" had more laughs than this film and that was more of a horror film. How bizarre is that?<br /><br />*1/2 (out of four)'\n",
      "Label 0\n",
      "Review b\"David Mamet is a very interesting and a very un-equal director. His first movie 'House of Games' was the one I liked best, and it set a series of films with characters whose perspective of life changes as they get into complicated situations, and so does the perspective of the viewer.<br /><br />So is 'Homicide' which from the title tries to set the mind of the viewer to the usual crime drama. The principal characters are two cops, one Jewish and one Irish who deal with a racially charged area. The murder of an old Jewish shop owner who proves to be an ancient veteran of the Israeli Independence war triggers the Jewish identity in the mind and heart of the Jewish detective.<br /><br />This is were the flaws of the film are the more obvious. The process of awakening is theatrical and hard to believe, the group of Jewish militants is operatic, and the way the detective eventually walks to the final violent confrontation is pathetic. The end of the film itself is Mamet-like smart, but disappoints from a human emotional perspective.<br /><br />Joe Mantegna and William Macy give strong performances, but the flaws of the story are too evident to be easily compensated.\"\n",
      "Label 0\n",
      "Review b'Great documentary about the lives of NY firefighters during the worst terrorist attack of all time.. That reason alone is why this should be a must see collectors item.. What shocked me was not only the attacks, but the\"High Fat Diet\" and physical appearance of some of these firefighters. I think a lot of Doctors would agree with me that,in the physical shape they were in, some of these firefighters would NOT of made it to the 79th floor carrying over 60 lbs of gear. Having said that i now have a greater respect for firefighters and i realize becoming a firefighter is a life altering job. The French have a history of making great documentary\\'s and that is what this is, a Great Documentary.....'\n",
      "Label 1\n"
     ]
    }
   ],
   "source": [
    "for text_batch, label_batch in raw_train_ds.take(1):\n",
    "  for i in range(3):\n",
    "    print(\"Review\", text_batch.numpy()[i])\n",
    "    print(\"Label\", label_batch.numpy()[i])"
   ]
  },
  {
   "cell_type": "markdown",
   "id": "e9c42c93-1ffd-4324-a9a8-1e45428ecb6a",
   "metadata": {},
   "source": [
    "# Preprocessing"
   ]
  },
  {
   "cell_type": "markdown",
   "id": "9017f1fb-749d-40f9-a307-a13e9aded4b8",
   "metadata": {},
   "source": [
    "`tf.keras.layers.TextVectorization` performs:\n",
    "- Standardization: sanitizing the text *(default: converts text to lowercase and strips punctuation)*\n",
    "- Tokenization: splitting strings into tokens *(default: by whitespace)*\n",
    "- Vectorization: converting tokens into numbers *(default: int)*\n",
    "\n",
    "You can also use `text.BertTokenizer` with a `BERT` model to simplify the preprocessing."
   ]
  },
  {
   "cell_type": "code",
   "execution_count": 14,
   "id": "2a93cf74-947b-458b-b888-420347d3368f",
   "metadata": {},
   "outputs": [],
   "source": [
    "def custom_standardization(input_data):\n",
    "  lowercase = tf.strings.lower(input_data)\n",
    "  stripped_html = tf.strings.regex_replace(lowercase, '<br />', ' ')\n",
    "  return tf.strings.regex_replace(stripped_html, '[%s]' % re.escape(string.punctuation), '')"
   ]
  },
  {
   "cell_type": "code",
   "execution_count": 16,
   "id": "ddd21dc9-b8aa-4f0e-bb04-864eff2d5ecd",
   "metadata": {},
   "outputs": [],
   "source": [
    "max_features = 10000 # vocabulary size\n",
    "sequence_length = 250\n",
    "\n",
    "vectorize_layer = layers.TextVectorization(standardize=custom_standardization, max_tokens=max_features, output_mode='int', output_sequence_length=sequence_length)"
   ]
  },
  {
   "cell_type": "markdown",
   "id": "e7ed7739-a6e3-45b2-b380-59250dc0a9fc",
   "metadata": {},
   "source": [
    "Fit (create the vocabulary) **only** over the Train data (using the test set would leak information)"
   ]
  },
  {
   "cell_type": "code",
   "execution_count": 17,
   "id": "e6cafed7-8292-4448-a7c7-f28d5c47c9f8",
   "metadata": {},
   "outputs": [],
   "source": [
    "train_text = raw_train_ds.map(lambda x, y: x)\n",
    "vectorize_layer.adapt(train_text)"
   ]
  },
  {
   "cell_type": "code",
   "execution_count": 20,
   "id": "3cab48bb-26f8-4e2d-972e-e64ee3cc0784",
   "metadata": {},
   "outputs": [
    {
     "name": "stdout",
     "output_type": "stream",
     "text": [
      "Vocabulary size: 10000\n"
     ]
    }
   ],
   "source": [
    "print('Vocabulary size: {}'.format(len(vectorize_layer.get_vocabulary())))"
   ]
  },
  {
   "cell_type": "markdown",
   "id": "52431adc-18c2-4672-bbfd-4e587d5320e0",
   "metadata": {},
   "source": [
    "Transformation function"
   ]
  },
  {
   "cell_type": "code",
   "execution_count": 18,
   "id": "fac0ff30-6d90-4eca-89ce-367e59100bb8",
   "metadata": {},
   "outputs": [],
   "source": [
    "def vectorize_text(text, label):\n",
    "  text = tf.expand_dims(text, -1)\n",
    "  return vectorize_layer(text), label"
   ]
  },
  {
   "cell_type": "code",
   "execution_count": 38,
   "id": "efe387b5-bcf3-4173-9755-d747abb7b33f",
   "metadata": {},
   "outputs": [
    {
     "name": "stdout",
     "output_type": "stream",
     "text": [
      "Review tf.Tensor(b\"I went to see Fever Pitch with my Mom, and I can say that we both loved it. It wasn't the typical romantic comedy where someone is pining for the other, and blah blah blah... You weren't waiting for the climatic first kiss or for them to finally get together. It was more real, because you saw them through the relationship, rather than the whole movie be about them getting together. People could actually relate to the film, because it didn't seem like extraordinary circumstances, or impossible situations. It was really funny, and I think it was Jimmy Fallon's best performance. All in all... I would definitely recommend it!\", shape=(), dtype=string)\n",
      "Label pos\n",
      "Vectorized review (<tf.Tensor: shape=(1, 250), dtype=int64, numpy=\n",
      "array([[  10,  426,    6,   67, 3775, 3322,   16,   54, 1611,    3,   10,\n",
      "          68,  131,   12,   71,  192,  446,    9,    9,  269,    2,  769,\n",
      "         736,  220,  114,  282,    7,    1,   15,    2,   78,    3, 2642,\n",
      "        2642, 2642,   22, 1156, 1064,   15,    2, 9883,   83, 2719,   41,\n",
      "          15,   93,    6,  404,   75,  281,    9,   13,   50,  145,   84,\n",
      "          22,  208,   93,  140,    2,  629,  239,   70,    2,  211,   17,\n",
      "          26,   42,   93,  383,  281,   79,   98,  157, 2133,    6,    2,\n",
      "          19,   84,    9,  152,  295,   38, 2735, 2331,   41, 1168, 1134,\n",
      "           9,   13,   62,  160,    3,   10,  102,    9,   13, 1995,    1,\n",
      "         113,  234,   30,    8,   30,   10,   59,  387,  367,    9,    0,\n",
      "           0,    0,    0,    0,    0,    0,    0,    0,    0,    0,    0,\n",
      "           0,    0,    0,    0,    0,    0,    0,    0,    0,    0,    0,\n",
      "           0,    0,    0,    0,    0,    0,    0,    0,    0,    0,    0,\n",
      "           0,    0,    0,    0,    0,    0,    0,    0,    0,    0,    0,\n",
      "           0,    0,    0,    0,    0,    0,    0,    0,    0,    0,    0,\n",
      "           0,    0,    0,    0,    0,    0,    0,    0,    0,    0,    0,\n",
      "           0,    0,    0,    0,    0,    0,    0,    0,    0,    0,    0,\n",
      "           0,    0,    0,    0,    0,    0,    0,    0,    0,    0,    0,\n",
      "           0,    0,    0,    0,    0,    0,    0,    0,    0,    0,    0,\n",
      "           0,    0,    0,    0,    0,    0,    0,    0,    0,    0,    0,\n",
      "           0,    0,    0,    0,    0,    0,    0,    0,    0,    0,    0,\n",
      "           0,    0,    0,    0,    0,    0,    0,    0,    0,    0,    0,\n",
      "           0,    0,    0,    0,    0,    0,    0,    0]], dtype=int64)>, <tf.Tensor: shape=(), dtype=int32, numpy=1>)\n",
      "10  --->  i\n",
      "426  --->  went\n"
     ]
    }
   ],
   "source": [
    "#testing\n",
    "text_batch, label_batch = next(iter(raw_train_ds))\n",
    "first_review, first_label = text_batch[0], label_batch[0]\n",
    "vectext = vectorize_text(first_review, first_label)\n",
    "word1 = vectext[0].numpy()[0][0]\n",
    "word2 = vectext[0].numpy()[0][1]\n",
    "\n",
    "print(\"Review\", first_review)\n",
    "print(\"Label\", raw_train_ds.class_names[first_label])\n",
    "print(\"Vectorized review\", vectext)\n",
    "\n",
    "print(word1, \" ---> \",vectorize_layer.get_vocabulary()[word1])\n",
    "print(word2, \" ---> \",vectorize_layer.get_vocabulary()[word2])"
   ]
  },
  {
   "cell_type": "markdown",
   "id": "5e2763bf-61fd-4985-b1f2-87cbee5c8af0",
   "metadata": {},
   "source": [
    "## Apply over the whole Dataset"
   ]
  },
  {
   "cell_type": "code",
   "execution_count": 39,
   "id": "967c5cc1-43ac-42e7-b8f8-179d08636ae3",
   "metadata": {},
   "outputs": [],
   "source": [
    "train_ds = raw_train_ds.map(vectorize_text)\n",
    "val_ds = raw_val_ds.map(vectorize_text)\n",
    "test_ds = raw_test_ds.map(vectorize_text)"
   ]
  },
  {
   "cell_type": "markdown",
   "id": "07ad6993-4c7c-44cb-916e-12b1335c2bcd",
   "metadata": {},
   "source": [
    "Cache"
   ]
  },
  {
   "cell_type": "code",
   "execution_count": 40,
   "id": "9f334b7e-3be8-4b14-9eef-cd0e87deede9",
   "metadata": {},
   "outputs": [],
   "source": [
    "AUTOTUNE = tf.data.AUTOTUNE\n",
    "\n",
    "train_ds = train_ds.cache().prefetch(buffer_size=AUTOTUNE)\n",
    "val_ds = val_ds.cache().prefetch(buffer_size=AUTOTUNE)\n",
    "test_ds = test_ds.cache().prefetch(buffer_size=AUTOTUNE)"
   ]
  },
  {
   "cell_type": "markdown",
   "id": "fb1dcafe-527f-44b6-bf2d-10477e95565e",
   "metadata": {},
   "source": [
    "# Simple Model"
   ]
  },
  {
   "cell_type": "markdown",
   "id": "6058cbc8-c5a5-43c3-8e30-fefe1badcafe",
   "metadata": {},
   "source": [
    "The model:\n",
    "- Embed a 10,000 word vocabulary into 16 dense dimensions representation, returns dimensions `(batch, sequence, embedding)`\n",
    "- Global average over the `sequence` dimension, so the model handles reviews with any sequence size, returns `(batch, embedding)`\n",
    "- Densely connects and output a *logit*"
   ]
  },
  {
   "cell_type": "code",
   "execution_count": 41,
   "id": "d0037bae-e105-41d4-9871-95de5e4729f3",
   "metadata": {},
   "outputs": [
    {
     "name": "stdout",
     "output_type": "stream",
     "text": [
      "Model: \"sequential\"\n",
      "_________________________________________________________________\n",
      " Layer (type)                Output Shape              Param #   \n",
      "=================================================================\n",
      " embedding (Embedding)       (None, None, 16)          160016    \n",
      "                                                                 \n",
      " dropout (Dropout)           (None, None, 16)          0         \n",
      "                                                                 \n",
      " global_average_pooling1d (G  (None, 16)               0         \n",
      " lobalAveragePooling1D)                                          \n",
      "                                                                 \n",
      " dropout_1 (Dropout)         (None, 16)                0         \n",
      "                                                                 \n",
      " dense (Dense)               (None, 1)                 17        \n",
      "                                                                 \n",
      "=================================================================\n",
      "Total params: 160,033\n",
      "Trainable params: 160,033\n",
      "Non-trainable params: 0\n",
      "_________________________________________________________________\n"
     ]
    }
   ],
   "source": [
    "embedding_dim = 16\n",
    "\n",
    "model = tf.keras.Sequential([\n",
    "  layers.Embedding(max_features + 1, embedding_dim), # max_features = vocab size\n",
    "  layers.Dropout(0.2),\n",
    "  layers.GlobalAveragePooling1D(),\n",
    "  layers.Dropout(0.2),\n",
    "  layers.Dense(1)])\n",
    "\n",
    "model.summary()"
   ]
  },
  {
   "cell_type": "markdown",
   "id": "ca42d3df-e513-4464-8e16-ace340e8584a",
   "metadata": {},
   "source": [
    "## More models\n",
    "\n",
    "You can also create a different models if using different texts preprocessings:\n",
    "- If use a `output_mode='binary'` in `TextVectorization`, you can use a linear model\n",
    "- If use a `output_mode='int'` in `TextVectorization`, you can use a convolutional model"
   ]
  },
  {
   "cell_type": "code",
   "execution_count": null,
   "id": "ba48d9cb-0e06-4e2e-a6c8-6792188aa345",
   "metadata": {},
   "outputs": [],
   "source": [
    "linear_model = tf.keras.Sequential([layers.Dense(1)])\n",
    "\n",
    "conv_model = tf.keras.Sequential([\n",
    "      layers.Embedding(max_features, 64, mask_zero=True),\n",
    "      layers.Conv1D(64, 5, padding=\"valid\", activation=\"relu\", strides=2),\n",
    "      layers.GlobalMaxPooling1D(),\n",
    "      layers.Dense(1)\n",
    "  ])"
   ]
  },
  {
   "cell_type": "markdown",
   "id": "69fc2fb5-f5f5-42f8-b9fc-9eb85d4eb68b",
   "metadata": {},
   "source": [
    "## Continuing..."
   ]
  },
  {
   "cell_type": "code",
   "execution_count": 42,
   "id": "3056596d-7775-4ac0-aad8-8b86ea0be563",
   "metadata": {},
   "outputs": [],
   "source": [
    "model.compile(loss=losses.BinaryCrossentropy(from_logits=True), optimizer='adam', metrics=tf.metrics.BinaryAccuracy(threshold=0.0))"
   ]
  },
  {
   "cell_type": "code",
   "execution_count": 43,
   "id": "0f11696b-b08a-4aea-a4f0-cf646fdfd28f",
   "metadata": {},
   "outputs": [
    {
     "name": "stdout",
     "output_type": "stream",
     "text": [
      "Epoch 1/10\n",
      "625/625 [==============================] - 9s 13ms/step - loss: 0.6656 - binary_accuracy: 0.6909 - val_loss: 0.6168 - val_binary_accuracy: 0.7730\n",
      "Epoch 2/10\n",
      "625/625 [==============================] - 3s 4ms/step - loss: 0.5497 - binary_accuracy: 0.8000 - val_loss: 0.4988 - val_binary_accuracy: 0.8210\n",
      "Epoch 3/10\n",
      "625/625 [==============================] - 2s 4ms/step - loss: 0.4450 - binary_accuracy: 0.8442 - val_loss: 0.4202 - val_binary_accuracy: 0.8470\n",
      "Epoch 4/10\n",
      "625/625 [==============================] - 2s 4ms/step - loss: 0.3785 - binary_accuracy: 0.8665 - val_loss: 0.3737 - val_binary_accuracy: 0.8596\n",
      "Epoch 5/10\n",
      "625/625 [==============================] - 2s 4ms/step - loss: 0.3355 - binary_accuracy: 0.8781 - val_loss: 0.3451 - val_binary_accuracy: 0.8670\n",
      "Epoch 6/10\n",
      "625/625 [==============================] - 2s 4ms/step - loss: 0.3056 - binary_accuracy: 0.8888 - val_loss: 0.3261 - val_binary_accuracy: 0.8730\n",
      "Epoch 7/10\n",
      "625/625 [==============================] - 3s 4ms/step - loss: 0.2823 - binary_accuracy: 0.8970 - val_loss: 0.3126 - val_binary_accuracy: 0.8742\n",
      "Epoch 8/10\n",
      "625/625 [==============================] - 2s 4ms/step - loss: 0.2626 - binary_accuracy: 0.9035 - val_loss: 0.3034 - val_binary_accuracy: 0.8768\n",
      "Epoch 9/10\n",
      "625/625 [==============================] - 2s 4ms/step - loss: 0.2475 - binary_accuracy: 0.9100 - val_loss: 0.2967 - val_binary_accuracy: 0.8784\n",
      "Epoch 10/10\n",
      "625/625 [==============================] - 2s 4ms/step - loss: 0.2324 - binary_accuracy: 0.9147 - val_loss: 0.2918 - val_binary_accuracy: 0.8796\n"
     ]
    }
   ],
   "source": [
    "epochs = 10\n",
    "history = model.fit(train_ds, validation_data=val_ds, epochs=epochs)"
   ]
  },
  {
   "cell_type": "code",
   "execution_count": 44,
   "id": "5079b25c-4d37-43ef-bdf8-cfb969741e14",
   "metadata": {},
   "outputs": [
    {
     "name": "stdout",
     "output_type": "stream",
     "text": [
      "782/782 [==============================] - 6s 8ms/step - loss: 0.3105 - binary_accuracy: 0.8731\n",
      "Loss:  0.3105087876319885\n",
      "Accuracy:  0.8731200098991394\n"
     ]
    }
   ],
   "source": [
    "loss, accuracy = model.evaluate(test_ds)\n",
    "print(\"Loss: \", loss)\n",
    "print(\"Accuracy: \", accuracy)"
   ]
  },
  {
   "cell_type": "code",
   "execution_count": 46,
   "id": "49038bfb-321f-459d-87ab-e9cbdf70ab7d",
   "metadata": {},
   "outputs": [
    {
     "data": {
      "image/png": "[encoded data removed]",
      "text/plain": [
       "<Figure size 640x480 with 1 Axes>"
      ]
     },
     "metadata": {},
     "output_type": "display_data"
    }
   ],
   "source": [
    "acc = history.history['binary_accuracy']\n",
    "val_acc = history.history['val_binary_accuracy']\n",
    "loss = history.history['loss']\n",
    "val_loss = history.history['val_loss']\n",
    "\n",
    "epochs = range(1, len(acc) + 1)\n",
    "\n",
    "plt.plot(epochs, loss, label='Training loss')\n",
    "plt.plot(epochs, val_loss, label='Validation loss')\n",
    "plt.title('Training and validation loss')\n",
    "plt.xlabel('Epochs')\n",
    "plt.ylabel('Loss')\n",
    "plt.legend()\n",
    "\n",
    "plt.show()"
   ]
  },
  {
   "cell_type": "code",
   "execution_count": 47,
   "id": "bb17ec4c-0a70-46da-9b9f-0c6042948954",
   "metadata": {},
   "outputs": [
    {
     "data": {
      "image/png": "[encoded data removed]",
      "text/plain": [
       "<Figure size 640x480 with 1 Axes>"
      ]
     },
     "metadata": {},
     "output_type": "display_data"
    }
   ],
   "source": [
    "plt.plot(epochs, acc, label='Training acc')\n",
    "plt.plot(epochs, val_acc, label='Validation acc')\n",
    "plt.title('Training and validation accuracy')\n",
    "plt.xlabel('Epochs')\n",
    "plt.ylabel('Accuracy')\n",
    "plt.legend(loc='lower right')\n",
    "\n",
    "plt.show()"
   ]
  },
  {
   "cell_type": "markdown",
   "id": "325446ac-2a5e-4e59-9d68-082e780bab27",
   "metadata": {},
   "source": [
    "# Conslusion"
   ]
  },
  {
   "cell_type": "markdown",
   "id": "7c90fd08-9331-4c8a-9c66-9e73b0c3cf71",
   "metadata": {},
   "source": [
    "Its possible to notice that the model performs way better on the training data than it does on data it has never seen before.\n",
    "\n",
    "This model is **overfitted**, for this simpler case, a `EarlyStopping` callback should be enough to prevent the overfitting."
   ]
  },
  {
   "cell_type": "markdown",
   "id": "88d5a6b6-af2a-4a91-bfc4-0ba6354361aa",
   "metadata": {},
   "source": [
    "## Exportation\n",
    "\n",
    "To ease the exportation and deployment of the model, and to avoid train/test skew on data, you might want to include the text preprocessing in the model"
   ]
  },
  {
   "cell_type": "code",
   "execution_count": 48,
   "id": "3b594330-a135-4a7e-bfbc-46fab75db66f",
   "metadata": {},
   "outputs": [],
   "source": [
    "export_model = tf.keras.Sequential([\n",
    "  vectorize_layer,\n",
    "  model,\n",
    "  layers.Activation('sigmoid')\n",
    "])\n",
    "\n",
    "export_model.compile(loss=losses.BinaryCrossentropy(from_logits=False), optimizer=\"adam\", metrics=['accuracy'])"
   ]
  },
  {
   "cell_type": "code",
   "execution_count": 49,
   "id": "1af32deb-f5e8-44ab-a0c6-41f61dcccc8e",
   "metadata": {},
   "outputs": [
    {
     "name": "stdout",
     "output_type": "stream",
     "text": [
      "1/1 [==============================] - 0s 146ms/step\n"
     ]
    },
    {
     "data": {
      "text/plain": [
       "array([[0.6170986 ],\n",
       "       [0.4380344 ],\n",
       "       [0.35528472]], dtype=float32)"
      ]
     },
     "execution_count": 49,
     "metadata": {},
     "output_type": "execute_result"
    }
   ],
   "source": [
    "examples = [\n",
    "  \"The movie was great!\",\n",
    "  \"The movie was okay.\",\n",
    "  \"The movie was terrible...\"\n",
    "]\n",
    "\n",
    "export_model.predict(examples)"
   ]
  },
  {
   "cell_type": "markdown",
   "id": "94373ec8-4fa8-4d78-9a06-6ad04e6b8fd6",
   "metadata": {},
   "source": [
    "`export_model` can be saved in just one model file\n",
    "\n",
    "If necessary, you can also export a vocabulary from some *tokenizer* to another"
   ]
  },
  {
   "cell_type": "code",
   "execution_count": null,
   "id": "4d04801c-7cbb-402f-afad-0c2575ae4936",
   "metadata": {},
   "outputs": [],
   "source": [
    "new_preprocess_layer = layers.TextVectorization(...)\n",
    "new_preprocess_layer.set_vocabulary(vectorize_layer.get_vocabulary())"
   ]
  }
 ],
 "metadata": {
  "kernelspec": {
   "display_name": "Python 3 (ipykernel)",
   "language": "python",
   "name": "python3"
  },
  "language_info": {
   "codemirror_mode": {
    "name": "ipython",
    "version": 3
   },
   "file_extension": ".py",
   "mimetype": "text/x-python",
   "name": "python",
   "nbconvert_exporter": "python",
   "pygments_lexer": "ipython3",
   "version": "3.9.7"
  }
 },
 "nbformat": 4,
 "nbformat_minor": 5
}
