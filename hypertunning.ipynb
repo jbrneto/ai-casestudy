{
 "cells": [
  {
   "cell_type": "code",
   "execution_count": 4,
   "id": "5c1df31d-eaa5-4545-b022-cdf05b6de57e",
   "metadata": {},
   "outputs": [],
   "source": [
    "import tensorflow as tf\n",
    "from tensorflow import keras\n",
    "\n",
    "import keras_tuner as kt"
   ]
  },
  {
   "cell_type": "code",
   "execution_count": 2,
   "id": "b364b711-b843-423e-92a2-fea6dbafd187",
   "metadata": {},
   "outputs": [
    {
     "name": "stdout",
     "output_type": "stream",
     "text": [
      "Downloading data from https://storage.googleapis.com/tensorflow/tf-keras-datasets/train-labels-idx1-ubyte.gz\n",
      "29515/29515 [==============================] - 0s 3us/step\n",
      "Downloading data from https://storage.googleapis.com/tensorflow/tf-keras-datasets/train-images-idx3-ubyte.gz\n",
      "26421880/26421880 [==============================] - 2s 0us/step\n",
      "Downloading data from https://storage.googleapis.com/tensorflow/tf-keras-datasets/t10k-labels-idx1-ubyte.gz\n",
      "5148/5148 [==============================] - 0s 0s/step\n",
      "Downloading data from https://storage.googleapis.com/tensorflow/tf-keras-datasets/t10k-images-idx3-ubyte.gz\n",
      "4422102/4422102 [==============================] - 1s 0us/step\n"
     ]
    }
   ],
   "source": [
    "(img_train, label_train), (img_test, label_test) = keras.datasets.fashion_mnist.load_data()"
   ]
  },
  {
   "cell_type": "code",
   "execution_count": 3,
   "id": "c91a41a4-840a-45b7-8d95-29a515eb9bcb",
   "metadata": {},
   "outputs": [],
   "source": [
    "img_train = img_train.astype('float32') / 255.0\n",
    "img_test = img_test.astype('float32') / 255.0"
   ]
  },
  {
   "cell_type": "code",
   "execution_count": 5,
   "id": "c6d6cb4b-dd19-4df5-b1c8-4acd5d44b0d6",
   "metadata": {},
   "outputs": [],
   "source": [
    "def model_builder(hp):\n",
    "    model = keras.Sequential()\n",
    "    model.add(keras.layers.Flatten(input_shape=(28, 28)))\n",
    "\n",
    "    # Tune the number of units in the first Dense layer\n",
    "    hp_units = hp.Int('units', min_value=32, max_value=512, step=32)\n",
    "    # Tune the learning rate for the optimizer\n",
    "    hp_learning_rate = hp.Choice('learning_rate', values=[1e-2, 1e-3, 1e-4])\n",
    "\n",
    "    model.add(keras.layers.Dense(units=hp_units, activation='relu'))\n",
    "    model.add(keras.layers.Dense(10))\n",
    "    \n",
    "    model.compile(\n",
    "        optimizer=keras.optimizers.Adam(learning_rate=hp_learning_rate),\n",
    "        loss=keras.losses.SparseCategoricalCrossentropy(from_logits=True),\n",
    "        metrics=['accuracy']\n",
    "    )\n",
    "\n",
    "    return model"
   ]
  },
  {
   "cell_type": "markdown",
   "id": "759b6bdb-bf09-4a47-8618-681b65290b0f",
   "metadata": {},
   "source": [
    "Tunners: `RandomSearch`, `Hyperband`, `BayesianOptimization` and `Sklearn`"
   ]
  },
  {
   "cell_type": "code",
   "execution_count": 6,
   "id": "487e33c5-550b-4f4d-bd07-2fc03ea6f20b",
   "metadata": {},
   "outputs": [],
   "source": [
    "tuner = kt.Hyperband(model_builder, objective='val_accuracy', max_epochs=10, factor=3, directory='my_dir', project_name='intro_to_kt')"
   ]
  },
  {
   "cell_type": "code",
   "execution_count": 7,
   "id": "4265a561-7e19-40dd-9cc4-5cd4130182de",
   "metadata": {},
   "outputs": [],
   "source": [
    "stop_early = tf.keras.callbacks.EarlyStopping(monitor='val_loss', patience=5)"
   ]
  },
  {
   "cell_type": "markdown",
   "id": "c4d47e26-0147-4654-a500-0bb4583505c1",
   "metadata": {},
   "source": [
    "## Search for the better hyperparameters"
   ]
  },
  {
   "cell_type": "code",
   "execution_count": 8,
   "id": "62f19cee-96f1-4f50-b91d-7ff1e6096149",
   "metadata": {},
   "outputs": [
    {
     "name": "stdout",
     "output_type": "stream",
     "text": [
      "Trial 30 Complete [00h 00m 35s]\n",
      "val_accuracy: 0.878333330154419\n",
      "\n",
      "Best val_accuracy So Far: 0.8922500014305115\n",
      "Total elapsed time: 00h 09m 19s\n",
      "INFO:tensorflow:Oracle triggered exit\n"
     ]
    }
   ],
   "source": [
    "tuner.search(img_train, label_train, epochs=50, validation_split=0.2, callbacks=[stop_early])"
   ]
  },
  {
   "cell_type": "code",
   "execution_count": 9,
   "id": "2379f02f-769d-4191-bb9e-5e0bfaa222ee",
   "metadata": {},
   "outputs": [],
   "source": [
    "best_hps = tuner.get_best_hyperparameters(num_trials=1)[0]"
   ]
  },
  {
   "cell_type": "code",
   "execution_count": 11,
   "id": "85acdd7f-2545-41ba-a0c4-f3c3a1cd5f10",
   "metadata": {},
   "outputs": [
    {
     "data": {
      "text/plain": [
       "(224, 0.001)"
      ]
     },
     "execution_count": 11,
     "metadata": {},
     "output_type": "execute_result"
    }
   ],
   "source": [
    "best_hps.get('units'), best_hps.get('learning_rate')"
   ]
  },
  {
   "cell_type": "markdown",
   "id": "ac49f890-3d77-4c95-a78b-b9af30a33db9",
   "metadata": {},
   "source": [
    "## Search for the better epoch number"
   ]
  },
  {
   "cell_type": "code",
   "execution_count": 12,
   "id": "abedf349-eeae-4c83-96d1-cd456de0b7fc",
   "metadata": {},
   "outputs": [
    {
     "name": "stdout",
     "output_type": "stream",
     "text": [
      "Epoch 1/50\n",
      "1500/1500 [==============================] - 4s 2ms/step - loss: 0.5047 - accuracy: 0.8215 - val_loss: 0.4134 - val_accuracy: 0.8541\n",
      "Epoch 2/50\n",
      "1500/1500 [==============================] - 3s 2ms/step - loss: 0.3753 - accuracy: 0.8640 - val_loss: 0.3632 - val_accuracy: 0.8719\n",
      "Epoch 3/50\n",
      "1500/1500 [==============================] - 3s 2ms/step - loss: 0.3364 - accuracy: 0.8765 - val_loss: 0.3461 - val_accuracy: 0.8772\n",
      "Epoch 4/50\n",
      "1500/1500 [==============================] - 4s 2ms/step - loss: 0.3091 - accuracy: 0.8871 - val_loss: 0.3765 - val_accuracy: 0.8610\n",
      "Epoch 5/50\n",
      "1500/1500 [==============================] - 4s 2ms/step - loss: 0.2912 - accuracy: 0.8922 - val_loss: 0.3257 - val_accuracy: 0.8836\n",
      "Epoch 6/50\n",
      "1500/1500 [==============================] - 3s 2ms/step - loss: 0.2767 - accuracy: 0.8977 - val_loss: 0.3244 - val_accuracy: 0.8839\n",
      "Epoch 7/50\n",
      "1500/1500 [==============================] - 3s 2ms/step - loss: 0.2618 - accuracy: 0.9031 - val_loss: 0.3357 - val_accuracy: 0.8792\n",
      "Epoch 8/50\n",
      "1500/1500 [==============================] - 4s 2ms/step - loss: 0.2515 - accuracy: 0.9060 - val_loss: 0.3288 - val_accuracy: 0.8853\n",
      "Epoch 9/50\n",
      "1500/1500 [==============================] - 3s 2ms/step - loss: 0.2395 - accuracy: 0.9115 - val_loss: 0.3280 - val_accuracy: 0.8867\n",
      "Epoch 10/50\n",
      "1500/1500 [==============================] - 3s 2ms/step - loss: 0.2320 - accuracy: 0.9123 - val_loss: 0.3104 - val_accuracy: 0.8913\n",
      "Epoch 11/50\n",
      "1500/1500 [==============================] - 3s 2ms/step - loss: 0.2216 - accuracy: 0.9180 - val_loss: 0.3154 - val_accuracy: 0.8884\n",
      "Epoch 12/50\n",
      "1500/1500 [==============================] - 3s 2ms/step - loss: 0.2145 - accuracy: 0.9194 - val_loss: 0.3182 - val_accuracy: 0.8900\n",
      "Epoch 13/50\n",
      "1500/1500 [==============================] - 3s 2ms/step - loss: 0.2074 - accuracy: 0.9228 - val_loss: 0.3124 - val_accuracy: 0.8930\n",
      "Epoch 14/50\n",
      "1500/1500 [==============================] - 3s 2ms/step - loss: 0.1976 - accuracy: 0.9264 - val_loss: 0.3141 - val_accuracy: 0.8941\n",
      "Epoch 15/50\n",
      "1500/1500 [==============================] - 3s 2ms/step - loss: 0.1954 - accuracy: 0.9263 - val_loss: 0.3591 - val_accuracy: 0.8830\n",
      "Epoch 16/50\n",
      "1500/1500 [==============================] - 3s 2ms/step - loss: 0.1867 - accuracy: 0.9289 - val_loss: 0.3317 - val_accuracy: 0.8908\n",
      "Epoch 17/50\n",
      "1500/1500 [==============================] - 3s 2ms/step - loss: 0.1820 - accuracy: 0.9313 - val_loss: 0.3543 - val_accuracy: 0.8832\n",
      "Epoch 18/50\n",
      "1500/1500 [==============================] - 3s 2ms/step - loss: 0.1728 - accuracy: 0.9350 - val_loss: 0.3180 - val_accuracy: 0.8972\n",
      "Epoch 19/50\n",
      "1500/1500 [==============================] - 3s 2ms/step - loss: 0.1683 - accuracy: 0.9369 - val_loss: 0.3374 - val_accuracy: 0.8931\n",
      "Epoch 20/50\n",
      "1500/1500 [==============================] - 3s 2ms/step - loss: 0.1645 - accuracy: 0.9385 - val_loss: 0.3462 - val_accuracy: 0.8907\n",
      "Epoch 21/50\n",
      "1500/1500 [==============================] - 3s 2ms/step - loss: 0.1575 - accuracy: 0.9409 - val_loss: 0.3499 - val_accuracy: 0.8937\n",
      "Epoch 22/50\n",
      "1500/1500 [==============================] - 3s 2ms/step - loss: 0.1558 - accuracy: 0.9406 - val_loss: 0.3375 - val_accuracy: 0.8959\n",
      "Epoch 23/50\n",
      "1500/1500 [==============================] - 3s 2ms/step - loss: 0.1479 - accuracy: 0.9434 - val_loss: 0.3501 - val_accuracy: 0.8938\n",
      "Epoch 24/50\n",
      "1500/1500 [==============================] - 3s 2ms/step - loss: 0.1443 - accuracy: 0.9454 - val_loss: 0.3727 - val_accuracy: 0.8874\n",
      "Epoch 25/50\n",
      "1500/1500 [==============================] - 3s 2ms/step - loss: 0.1411 - accuracy: 0.9472 - val_loss: 0.3480 - val_accuracy: 0.8953\n",
      "Epoch 26/50\n",
      "1500/1500 [==============================] - 3s 2ms/step - loss: 0.1386 - accuracy: 0.9480 - val_loss: 0.3700 - val_accuracy: 0.8945\n",
      "Epoch 27/50\n",
      "1500/1500 [==============================] - 3s 2ms/step - loss: 0.1314 - accuracy: 0.9511 - val_loss: 0.3808 - val_accuracy: 0.8884\n",
      "Epoch 28/50\n",
      "1500/1500 [==============================] - 3s 2ms/step - loss: 0.1296 - accuracy: 0.9514 - val_loss: 0.3800 - val_accuracy: 0.8903\n",
      "Epoch 29/50\n",
      "1500/1500 [==============================] - 3s 2ms/step - loss: 0.1267 - accuracy: 0.9525 - val_loss: 0.4047 - val_accuracy: 0.8923\n",
      "Epoch 30/50\n",
      "1500/1500 [==============================] - 3s 2ms/step - loss: 0.1243 - accuracy: 0.9526 - val_loss: 0.3952 - val_accuracy: 0.8907\n",
      "Epoch 31/50\n",
      "1500/1500 [==============================] - 3s 2ms/step - loss: 0.1198 - accuracy: 0.9544 - val_loss: 0.3763 - val_accuracy: 0.8960\n",
      "Epoch 32/50\n",
      "1500/1500 [==============================] - 3s 2ms/step - loss: 0.1180 - accuracy: 0.9564 - val_loss: 0.4013 - val_accuracy: 0.8899\n",
      "Epoch 33/50\n",
      "1500/1500 [==============================] - 3s 2ms/step - loss: 0.1166 - accuracy: 0.9567 - val_loss: 0.4103 - val_accuracy: 0.8903\n",
      "Epoch 34/50\n",
      "1500/1500 [==============================] - 3s 2ms/step - loss: 0.1112 - accuracy: 0.9583 - val_loss: 0.4093 - val_accuracy: 0.8929\n",
      "Epoch 35/50\n",
      "1500/1500 [==============================] - 3s 2ms/step - loss: 0.1074 - accuracy: 0.9596 - val_loss: 0.4217 - val_accuracy: 0.8926\n",
      "Epoch 36/50\n",
      "1500/1500 [==============================] - 3s 2ms/step - loss: 0.1063 - accuracy: 0.9596 - val_loss: 0.4419 - val_accuracy: 0.8917\n",
      "Epoch 37/50\n",
      "1500/1500 [==============================] - 3s 2ms/step - loss: 0.1017 - accuracy: 0.9618 - val_loss: 0.4294 - val_accuracy: 0.8928\n",
      "Epoch 38/50\n",
      "1500/1500 [==============================] - 4s 3ms/step - loss: 0.1017 - accuracy: 0.9619 - val_loss: 0.4328 - val_accuracy: 0.8975\n",
      "Epoch 39/50\n",
      "1500/1500 [==============================] - 3s 2ms/step - loss: 0.0990 - accuracy: 0.9621 - val_loss: 0.4462 - val_accuracy: 0.8923\n",
      "Epoch 40/50\n",
      "1500/1500 [==============================] - 3s 2ms/step - loss: 0.0969 - accuracy: 0.9639 - val_loss: 0.4734 - val_accuracy: 0.8921\n",
      "Epoch 41/50\n",
      "1500/1500 [==============================] - 3s 2ms/step - loss: 0.0953 - accuracy: 0.9632 - val_loss: 0.4502 - val_accuracy: 0.8932\n",
      "Epoch 42/50\n",
      "1500/1500 [==============================] - 3s 2ms/step - loss: 0.0908 - accuracy: 0.9658 - val_loss: 0.4534 - val_accuracy: 0.8936\n",
      "Epoch 43/50\n",
      "1500/1500 [==============================] - 3s 2ms/step - loss: 0.0888 - accuracy: 0.9668 - val_loss: 0.5086 - val_accuracy: 0.8901\n",
      "Epoch 44/50\n",
      "1500/1500 [==============================] - 3s 2ms/step - loss: 0.0901 - accuracy: 0.9661 - val_loss: 0.4745 - val_accuracy: 0.8907\n",
      "Epoch 45/50\n",
      "1500/1500 [==============================] - 3s 2ms/step - loss: 0.0897 - accuracy: 0.9666 - val_loss: 0.4663 - val_accuracy: 0.8932\n",
      "Epoch 46/50\n",
      "1500/1500 [==============================] - 3s 2ms/step - loss: 0.0848 - accuracy: 0.9679 - val_loss: 0.4959 - val_accuracy: 0.8931\n",
      "Epoch 47/50\n",
      "1500/1500 [==============================] - 3s 2ms/step - loss: 0.0831 - accuracy: 0.9682 - val_loss: 0.5692 - val_accuracy: 0.8785\n",
      "Epoch 48/50\n",
      "1500/1500 [==============================] - 3s 2ms/step - loss: 0.0840 - accuracy: 0.9682 - val_loss: 0.5030 - val_accuracy: 0.8933\n",
      "Epoch 49/50\n",
      "1500/1500 [==============================] - 3s 2ms/step - loss: 0.0809 - accuracy: 0.9697 - val_loss: 0.4665 - val_accuracy: 0.8945\n",
      "Epoch 50/50\n",
      "1500/1500 [==============================] - 3s 2ms/step - loss: 0.0772 - accuracy: 0.9717 - val_loss: 0.5213 - val_accuracy: 0.8904\n"
     ]
    }
   ],
   "source": [
    "model = tuner.hypermodel.build(best_hps)\n",
    "history = model.fit(img_train, label_train, epochs=50, validation_split=0.2)"
   ]
  },
  {
   "cell_type": "code",
   "execution_count": 13,
   "id": "b0b98025-28c0-4454-a526-777fa4ae4ba2",
   "metadata": {},
   "outputs": [],
   "source": [
    "# get best epoch amount\n",
    "val_acc_per_epoch = history.history['val_accuracy']\n",
    "best_epoch = val_acc_per_epoch.index(max(val_acc_per_epoch)) + 1"
   ]
  },
  {
   "cell_type": "code",
   "execution_count": 14,
   "id": "9e4eb1f2-6d41-491d-b778-4d04365c347d",
   "metadata": {},
   "outputs": [
    {
     "data": {
      "text/plain": [
       "38"
      ]
     },
     "execution_count": 14,
     "metadata": {},
     "output_type": "execute_result"
    }
   ],
   "source": [
    "best_epoch"
   ]
  },
  {
   "cell_type": "markdown",
   "id": "8a12d1a0-2377-4ac6-b3aa-535ed26eaae1",
   "metadata": {},
   "source": [
    "## Train with the best configs (hyperparametrs and epochs)"
   ]
  },
  {
   "cell_type": "code",
   "execution_count": 15,
   "id": "69ea3d82-2f8c-450a-8cb0-8e74f8e8dc18",
   "metadata": {},
   "outputs": [
    {
     "name": "stdout",
     "output_type": "stream",
     "text": [
      "Epoch 1/38\n",
      "1500/1500 [==============================] - 4s 2ms/step - loss: 0.5031 - accuracy: 0.8222 - val_loss: 0.4038 - val_accuracy: 0.8524\n",
      "Epoch 2/38\n",
      "1500/1500 [==============================] - 3s 2ms/step - loss: 0.3753 - accuracy: 0.8646 - val_loss: 0.3795 - val_accuracy: 0.8623\n",
      "Epoch 3/38\n",
      "1500/1500 [==============================] - 4s 2ms/step - loss: 0.3371 - accuracy: 0.8757 - val_loss: 0.4086 - val_accuracy: 0.8493\n",
      "Epoch 4/38\n",
      "1500/1500 [==============================] - 3s 2ms/step - loss: 0.3115 - accuracy: 0.8842 - val_loss: 0.3374 - val_accuracy: 0.8796\n",
      "Epoch 5/38\n",
      "1500/1500 [==============================] - 3s 2ms/step - loss: 0.2901 - accuracy: 0.8930 - val_loss: 0.3195 - val_accuracy: 0.8857\n",
      "Epoch 6/38\n",
      "1500/1500 [==============================] - 3s 2ms/step - loss: 0.2760 - accuracy: 0.8963 - val_loss: 0.3154 - val_accuracy: 0.8877\n",
      "Epoch 7/38\n",
      "1500/1500 [==============================] - 3s 2ms/step - loss: 0.2613 - accuracy: 0.9027 - val_loss: 0.3425 - val_accuracy: 0.8847\n",
      "Epoch 8/38\n",
      "1500/1500 [==============================] - 3s 2ms/step - loss: 0.2509 - accuracy: 0.9057 - val_loss: 0.3155 - val_accuracy: 0.8887\n",
      "Epoch 9/38\n",
      "1500/1500 [==============================] - 3s 2ms/step - loss: 0.2396 - accuracy: 0.9111 - val_loss: 0.3191 - val_accuracy: 0.8864\n",
      "Epoch 10/38\n",
      "1500/1500 [==============================] - 3s 2ms/step - loss: 0.2304 - accuracy: 0.9135 - val_loss: 0.3126 - val_accuracy: 0.8907\n",
      "Epoch 11/38\n",
      "1500/1500 [==============================] - 3s 2ms/step - loss: 0.2211 - accuracy: 0.9184 - val_loss: 0.3149 - val_accuracy: 0.8897\n",
      "Epoch 12/38\n",
      "1500/1500 [==============================] - 3s 2ms/step - loss: 0.2130 - accuracy: 0.9210 - val_loss: 0.3400 - val_accuracy: 0.8848\n",
      "Epoch 13/38\n",
      "1500/1500 [==============================] - 3s 2ms/step - loss: 0.2081 - accuracy: 0.9225 - val_loss: 0.3092 - val_accuracy: 0.8925\n",
      "Epoch 14/38\n",
      "1500/1500 [==============================] - 3s 2ms/step - loss: 0.2012 - accuracy: 0.9239 - val_loss: 0.3275 - val_accuracy: 0.8905\n",
      "Epoch 15/38\n",
      "1500/1500 [==============================] - 3s 2ms/step - loss: 0.1936 - accuracy: 0.9270 - val_loss: 0.3118 - val_accuracy: 0.8937\n",
      "Epoch 16/38\n",
      "1500/1500 [==============================] - 3s 2ms/step - loss: 0.1857 - accuracy: 0.9300 - val_loss: 0.3180 - val_accuracy: 0.8958\n",
      "Epoch 17/38\n",
      "1500/1500 [==============================] - 3s 2ms/step - loss: 0.1835 - accuracy: 0.9310 - val_loss: 0.3400 - val_accuracy: 0.8927\n",
      "Epoch 18/38\n",
      "1500/1500 [==============================] - 3s 2ms/step - loss: 0.1745 - accuracy: 0.9344 - val_loss: 0.3232 - val_accuracy: 0.8949\n",
      "Epoch 19/38\n",
      "1500/1500 [==============================] - 3s 2ms/step - loss: 0.1708 - accuracy: 0.9360 - val_loss: 0.3244 - val_accuracy: 0.8974\n",
      "Epoch 20/38\n",
      "1500/1500 [==============================] - 3s 2ms/step - loss: 0.1624 - accuracy: 0.9388 - val_loss: 0.3446 - val_accuracy: 0.8931\n",
      "Epoch 21/38\n",
      "1500/1500 [==============================] - 3s 2ms/step - loss: 0.1578 - accuracy: 0.9408 - val_loss: 0.3636 - val_accuracy: 0.8907\n",
      "Epoch 22/38\n",
      "1500/1500 [==============================] - 3s 2ms/step - loss: 0.1565 - accuracy: 0.9418 - val_loss: 0.3491 - val_accuracy: 0.8942\n",
      "Epoch 23/38\n",
      "1500/1500 [==============================] - 3s 2ms/step - loss: 0.1513 - accuracy: 0.9440 - val_loss: 0.3516 - val_accuracy: 0.8959\n",
      "Epoch 24/38\n",
      "1500/1500 [==============================] - 3s 2ms/step - loss: 0.1471 - accuracy: 0.9446 - val_loss: 0.3706 - val_accuracy: 0.8928\n",
      "Epoch 25/38\n",
      "1500/1500 [==============================] - 3s 2ms/step - loss: 0.1425 - accuracy: 0.9464 - val_loss: 0.3544 - val_accuracy: 0.8942\n",
      "Epoch 26/38\n",
      "1500/1500 [==============================] - 3s 2ms/step - loss: 0.1371 - accuracy: 0.9489 - val_loss: 0.3738 - val_accuracy: 0.8927\n",
      "Epoch 27/38\n",
      "1500/1500 [==============================] - 3s 2ms/step - loss: 0.1347 - accuracy: 0.9494 - val_loss: 0.4050 - val_accuracy: 0.8906\n",
      "Epoch 28/38\n",
      "1500/1500 [==============================] - 3s 2ms/step - loss: 0.1308 - accuracy: 0.9503 - val_loss: 0.3807 - val_accuracy: 0.8990\n",
      "Epoch 29/38\n",
      "1500/1500 [==============================] - 3s 2ms/step - loss: 0.1296 - accuracy: 0.9506 - val_loss: 0.3750 - val_accuracy: 0.8978\n",
      "Epoch 30/38\n",
      "1500/1500 [==============================] - 3s 2ms/step - loss: 0.1230 - accuracy: 0.9538 - val_loss: 0.3846 - val_accuracy: 0.8928\n",
      "Epoch 31/38\n",
      "1500/1500 [==============================] - 3s 2ms/step - loss: 0.1219 - accuracy: 0.9545 - val_loss: 0.3993 - val_accuracy: 0.8925\n",
      "Epoch 32/38\n",
      "1500/1500 [==============================] - 3s 2ms/step - loss: 0.1186 - accuracy: 0.9563 - val_loss: 0.3961 - val_accuracy: 0.8932\n",
      "Epoch 33/38\n",
      "1500/1500 [==============================] - 3s 2ms/step - loss: 0.1151 - accuracy: 0.9562 - val_loss: 0.4097 - val_accuracy: 0.8902\n",
      "Epoch 34/38\n",
      "1500/1500 [==============================] - 3s 2ms/step - loss: 0.1138 - accuracy: 0.9579 - val_loss: 0.4078 - val_accuracy: 0.8988\n",
      "Epoch 35/38\n",
      "1500/1500 [==============================] - 3s 2ms/step - loss: 0.1096 - accuracy: 0.9592 - val_loss: 0.4044 - val_accuracy: 0.8979\n",
      "Epoch 36/38\n",
      "1500/1500 [==============================] - 3s 2ms/step - loss: 0.1084 - accuracy: 0.9593 - val_loss: 0.4711 - val_accuracy: 0.8838\n",
      "Epoch 37/38\n",
      "1500/1500 [==============================] - 3s 2ms/step - loss: 0.1026 - accuracy: 0.9612 - val_loss: 0.4078 - val_accuracy: 0.8963\n",
      "Epoch 38/38\n",
      "1500/1500 [==============================] - 3s 2ms/step - loss: 0.1062 - accuracy: 0.9604 - val_loss: 0.4325 - val_accuracy: 0.8890\n"
     ]
    },
    {
     "data": {
      "text/plain": [
       "<keras.callbacks.History at 0x1c4ac13d220>"
      ]
     },
     "execution_count": 15,
     "metadata": {},
     "output_type": "execute_result"
    }
   ],
   "source": [
    "hypermodel = tuner.hypermodel.build(best_hps)\n",
    "hypermodel.fit(img_train, label_train, epochs=best_epoch, validation_split=0.2)"
   ]
  },
  {
   "cell_type": "markdown",
   "id": "539dc794-44bc-4c63-8d4b-eadd4b5872a3",
   "metadata": {},
   "source": [
    "## Results"
   ]
  },
  {
   "cell_type": "code",
   "execution_count": 16,
   "id": "5a39609a-a385-4541-a12a-8dbeae9c6f3f",
   "metadata": {},
   "outputs": [
    {
     "name": "stdout",
     "output_type": "stream",
     "text": [
      "313/313 [==============================] - 0s 1ms/step - loss: 0.4833 - accuracy: 0.8854\n",
      "[test loss, test accuracy]: [0.4832727611064911, 0.8853999972343445]\n"
     ]
    }
   ],
   "source": [
    "eval_result = hypermodel.evaluate(img_test, label_test)\n",
    "print(\"[test loss, test accuracy]:\", eval_result)"
   ]
  }
 ],
 "metadata": {
  "kernelspec": {
   "display_name": "Python 3 (ipykernel)",
   "language": "python",
   "name": "python3"
  },
  "language_info": {
   "codemirror_mode": {
    "name": "ipython",
    "version": 3
   },
   "file_extension": ".py",
   "mimetype": "text/x-python",
   "name": "python",
   "nbconvert_exporter": "python",
   "pygments_lexer": "ipython3",
   "version": "3.9.7"
  }
 },
 "nbformat": 4,
 "nbformat_minor": 5
}
