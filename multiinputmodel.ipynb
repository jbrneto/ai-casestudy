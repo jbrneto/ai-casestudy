{
 "cells": [
  {
   "cell_type": "markdown",
   "id": "af88d2b5-e27d-40f8-ada2-6e0cc800915e",
   "metadata": {},
   "source": [
    "# House Classification Data Analysis"
   ]
  },
  {
   "cell_type": "markdown",
   "id": "1a11b58c-9831-4af5-b8e8-2ac82753cfa2",
   "metadata": {},
   "source": [
    "Datased: [SLICED](https://harsh-walleye-e6e.notion.site/SLICED-Show-c7bd26356e3a42279e2dfbafb0480073) competition, data available in [here](https://www.kaggle.com/c/sliced-s01e11-semifinals/data)\n",
    "\n",
    "Analyze the Texas housing data, clean it, and predict the **price range** using the nemerial, categorical and text features."
   ]
  },
  {
   "cell_type": "code",
   "execution_count": 2,
   "id": "6ab8cee6-847e-4820-8960-5eb4ff156f47",
   "metadata": {},
   "outputs": [],
   "source": [
    "import sklearn\n",
    "import pandas as pd\n",
    "import numpy as np\n",
    "import tensorflow as tf\n",
    "from tensorflow import keras\n",
    "import matplotlib.pyplot as plt"
   ]
  },
  {
   "cell_type": "code",
   "execution_count": 3,
   "id": "e55c5f56-ea68-4cf6-96a2-08ce8adc8817",
   "metadata": {},
   "outputs": [],
   "source": [
    "dataset = pd.read_csv('C:/Users/joao/Downloads/train.csv')"
   ]
  },
  {
   "cell_type": "code",
   "execution_count": 4,
   "id": "2c5a3f41-1ee6-4fd5-b789-dee0e7a5620f",
   "metadata": {},
   "outputs": [
    {
     "data": {
      "text/html": [
       "<div>\n",
       "<style scoped>\n",
       "    .dataframe tbody tr th:only-of-type {\n",
       "        vertical-align: middle;\n",
       "    }\n",
       "\n",
       "    .dataframe tbody tr th {\n",
       "        vertical-align: top;\n",
       "    }\n",
       "\n",
       "    .dataframe thead th {\n",
       "        text-align: right;\n",
       "    }\n",
       "</style>\n",
       "<table border=\"1\" class=\"dataframe\">\n",
       "  <thead>\n",
       "    <tr style=\"text-align: right;\">\n",
       "      <th></th>\n",
       "      <th>uid</th>\n",
       "      <th>city</th>\n",
       "      <th>description</th>\n",
       "      <th>homeType</th>\n",
       "      <th>latitude</th>\n",
       "      <th>longitude</th>\n",
       "      <th>garageSpaces</th>\n",
       "      <th>hasSpa</th>\n",
       "      <th>yearBuilt</th>\n",
       "      <th>numOfPatioAndPorchFeatures</th>\n",
       "      <th>lotSizeSqFt</th>\n",
       "      <th>avgSchoolRating</th>\n",
       "      <th>MedianStudentsPerTeacher</th>\n",
       "      <th>numOfBathrooms</th>\n",
       "      <th>numOfBedrooms</th>\n",
       "      <th>priceRange</th>\n",
       "    </tr>\n",
       "  </thead>\n",
       "  <tbody>\n",
       "    <tr>\n",
       "      <th>0</th>\n",
       "      <td>1748</td>\n",
       "      <td>austin</td>\n",
       "      <td>MULTIPLE OFFERS submit best &amp; final to Agent b...</td>\n",
       "      <td>Single Family</td>\n",
       "      <td>30.380089</td>\n",
       "      <td>-97.800621</td>\n",
       "      <td>0</td>\n",
       "      <td>False</td>\n",
       "      <td>1988</td>\n",
       "      <td>0</td>\n",
       "      <td>102366.0</td>\n",
       "      <td>7.000000</td>\n",
       "      <td>17</td>\n",
       "      <td>4.0</td>\n",
       "      <td>4</td>\n",
       "      <td>650000+</td>\n",
       "    </tr>\n",
       "    <tr>\n",
       "      <th>1</th>\n",
       "      <td>13380</td>\n",
       "      <td>austin</td>\n",
       "      <td>4644 Hoffman Dr, Austin, TX 78749 is a single ...</td>\n",
       "      <td>Single Family</td>\n",
       "      <td>30.199486</td>\n",
       "      <td>-97.859947</td>\n",
       "      <td>0</td>\n",
       "      <td>False</td>\n",
       "      <td>1997</td>\n",
       "      <td>0</td>\n",
       "      <td>6534.0</td>\n",
       "      <td>6.666667</td>\n",
       "      <td>16</td>\n",
       "      <td>3.0</td>\n",
       "      <td>4</td>\n",
       "      <td>350000-450000</td>\n",
       "    </tr>\n",
       "    <tr>\n",
       "      <th>2</th>\n",
       "      <td>4115</td>\n",
       "      <td>austin</td>\n",
       "      <td>6804 Canal St, Austin, TX 78741 is a single fa...</td>\n",
       "      <td>Single Family</td>\n",
       "      <td>30.227398</td>\n",
       "      <td>-97.696083</td>\n",
       "      <td>0</td>\n",
       "      <td>False</td>\n",
       "      <td>1952</td>\n",
       "      <td>0</td>\n",
       "      <td>5619.0</td>\n",
       "      <td>3.333333</td>\n",
       "      <td>11</td>\n",
       "      <td>1.0</td>\n",
       "      <td>2</td>\n",
       "      <td>0-250000</td>\n",
       "    </tr>\n",
       "    <tr>\n",
       "      <th>3</th>\n",
       "      <td>6926</td>\n",
       "      <td>austin</td>\n",
       "      <td>Beautiful large lot with established trees. Lo...</td>\n",
       "      <td>Single Family</td>\n",
       "      <td>30.205469</td>\n",
       "      <td>-97.792351</td>\n",
       "      <td>4</td>\n",
       "      <td>False</td>\n",
       "      <td>1976</td>\n",
       "      <td>0</td>\n",
       "      <td>6416.0</td>\n",
       "      <td>4.000000</td>\n",
       "      <td>14</td>\n",
       "      <td>2.0</td>\n",
       "      <td>4</td>\n",
       "      <td>0-250000</td>\n",
       "    </tr>\n",
       "    <tr>\n",
       "      <th>4</th>\n",
       "      <td>14480</td>\n",
       "      <td>austin</td>\n",
       "      <td>Stunning NW Hills designer remodel by Cedar an...</td>\n",
       "      <td>Single Family</td>\n",
       "      <td>30.345106</td>\n",
       "      <td>-97.767426</td>\n",
       "      <td>2</td>\n",
       "      <td>False</td>\n",
       "      <td>1984</td>\n",
       "      <td>0</td>\n",
       "      <td>10759.0</td>\n",
       "      <td>7.000000</td>\n",
       "      <td>16</td>\n",
       "      <td>3.0</td>\n",
       "      <td>5</td>\n",
       "      <td>650000+</td>\n",
       "    </tr>\n",
       "  </tbody>\n",
       "</table>\n",
       "</div>"
      ],
      "text/plain": [
       "     uid    city                                        description  \\\n",
       "0   1748  austin  MULTIPLE OFFERS submit best & final to Agent b...   \n",
       "1  13380  austin  4644 Hoffman Dr, Austin, TX 78749 is a single ...   \n",
       "2   4115  austin  6804 Canal St, Austin, TX 78741 is a single fa...   \n",
       "3   6926  austin  Beautiful large lot with established trees. Lo...   \n",
       "4  14480  austin  Stunning NW Hills designer remodel by Cedar an...   \n",
       "\n",
       "        homeType   latitude  longitude  garageSpaces  hasSpa  yearBuilt  \\\n",
       "0  Single Family  30.380089 -97.800621             0   False       1988   \n",
       "1  Single Family  30.199486 -97.859947             0   False       1997   \n",
       "2  Single Family  30.227398 -97.696083             0   False       1952   \n",
       "3  Single Family  30.205469 -97.792351             4   False       1976   \n",
       "4  Single Family  30.345106 -97.767426             2   False       1984   \n",
       "\n",
       "   numOfPatioAndPorchFeatures  lotSizeSqFt  avgSchoolRating  \\\n",
       "0                           0     102366.0         7.000000   \n",
       "1                           0       6534.0         6.666667   \n",
       "2                           0       5619.0         3.333333   \n",
       "3                           0       6416.0         4.000000   \n",
       "4                           0      10759.0         7.000000   \n",
       "\n",
       "   MedianStudentsPerTeacher  numOfBathrooms  numOfBedrooms     priceRange  \n",
       "0                        17             4.0              4        650000+  \n",
       "1                        16             3.0              4  350000-450000  \n",
       "2                        11             1.0              2       0-250000  \n",
       "3                        14             2.0              4       0-250000  \n",
       "4                        16             3.0              5        650000+  "
      ]
     },
     "execution_count": 4,
     "metadata": {},
     "output_type": "execute_result"
    }
   ],
   "source": [
    "dataset.head(5)"
   ]
  },
  {
   "cell_type": "markdown",
   "id": "eddbfd35-463c-44b4-ad5f-4d38232d6ac1",
   "metadata": {},
   "source": [
    "# Analysis"
   ]
  },
  {
   "cell_type": "code",
   "execution_count": 35,
   "id": "1a998dd4-09d9-48ac-a3c9-9ade25436a18",
   "metadata": {},
   "outputs": [
    {
     "data": {
      "text/plain": [
       "250000-350000    2356\n",
       "350000-450000    2301\n",
       "450000-650000    2275\n",
       "650000+          1819\n",
       "0-250000         1249\n",
       "Name: priceRange, dtype: int64"
      ]
     },
     "execution_count": 35,
     "metadata": {},
     "output_type": "execute_result"
    }
   ],
   "source": [
    "dataset['priceRange'].value_counts()"
   ]
  },
  {
   "cell_type": "code",
   "execution_count": 52,
   "id": "c0e4d770-bf55-464f-9505-8d71cbd48f29",
   "metadata": {},
   "outputs": [
    {
     "name": "stdout",
     "output_type": "stream",
     "text": [
      "min 1905\n",
      "max 2020\n"
     ]
    },
    {
     "data": {
      "text/plain": [
       "(array([  19.,   56.,  162.,  342.,  749., 1055., 1920., 1255., 2601.,\n",
       "        1841.]),\n",
       " array([1905. , 1916.5, 1928. , 1939.5, 1951. , 1962.5, 1974. , 1985.5,\n",
       "        1997. , 2008.5, 2020. ]),\n",
       " <BarContainer object of 10 artists>)"
      ]
     },
     "execution_count": 52,
     "metadata": {},
     "output_type": "execute_result"
    },
    {
     "data": {
      "image/png": "[encoded data removed]",
      "text/plain": [
       "<Figure size 640x480 with 1 Axes>"
      ]
     },
     "metadata": {},
     "output_type": "display_data"
    }
   ],
   "source": [
    "ft = 'yearBuilt'\n",
    "print('min',np.min(dataset[ft]))\n",
    "print('max',np.max(dataset[ft]))\n",
    "plt.hist(dataset[ft])"
   ]
  },
  {
   "cell_type": "markdown",
   "id": "395deea3-ffed-4779-88e6-31c40896cb0d",
   "metadata": {},
   "source": [
    "# Preprocessing"
   ]
  },
  {
   "cell_type": "markdown",
   "id": "0a1960bc-60be-47fa-bb37-8c5f1031a06f",
   "metadata": {},
   "source": [
    "Transformations to be performed:\n",
    "\n",
    "city: cat\n",
    "\n",
    "description: nlp\n",
    "\n",
    "homeType: cat\n",
    "\n",
    "lat,lng: center tx: 30.2676575,-97.7422388\n",
    "\n",
    "garageSpaces: > 5, norm\n",
    "\n",
    "hasSpa: int\n",
    "\n",
    "yearBuilt: 2024 - yearBuilt, decade (cat)\n",
    "\n",
    "numOfPatioAndPorchFeatures: > 5, norm\n",
    "\n",
    "lotSizeSqFt: > 30000, norm\n",
    "\n",
    "avgSchoolRating: norml\n",
    "\n",
    "MedianStudentsPerTeacher: norm\n",
    "\n",
    "numOfBathrooms: > 5, norm\n",
    "\n",
    "numOfBedrooms: > 5, norm\n",
    "\n",
    "priceRange: cat (int)"
   ]
  },
  {
   "cell_type": "code",
   "execution_count": 37,
   "id": "1fcc45a2-ead9-42a8-a12e-e1d1a808faf7",
   "metadata": {},
   "outputs": [],
   "source": [
    "from sklearn.preprocessing import StandardScaler, OneHotEncoder, OrdinalEncoder"
   ]
  },
  {
   "cell_type": "code",
   "execution_count": 39,
   "id": "3f80aa62-1c34-4846-9c78-b4adda55b0c2",
   "metadata": {},
   "outputs": [],
   "source": [
    "from geopy import distance"
   ]
  },
  {
   "cell_type": "code",
   "execution_count": 121,
   "id": "e1f155eb-b3f2-45b1-bf40-5e93765dd11d",
   "metadata": {},
   "outputs": [],
   "source": [
    "new_dataset = dataset.copy()"
   ]
  },
  {
   "cell_type": "code",
   "execution_count": 122,
   "id": "8d3ef188-7249-4fef-a6c6-5f2a82a5896c",
   "metadata": {},
   "outputs": [],
   "source": [
    "label_encoder = OrdinalEncoder().fit(new_dataset[['priceRange']])\n",
    "new_dataset['priceRange'] = label_encoder.transform(new_dataset[['priceRange']])"
   ]
  },
  {
   "cell_type": "code",
   "execution_count": 123,
   "id": "b5650c24-b1c0-4a99-9477-4df8e7f763b6",
   "metadata": {},
   "outputs": [],
   "source": [
    "new_dataset['age'] = 2024 - new_dataset['yearBuilt']\n",
    "new_dataset['decade'] = np.floor((new_dataset['yearBuilt']-1900)/10)"
   ]
  },
  {
   "cell_type": "code",
   "execution_count": 124,
   "id": "5a228946-09f5-406a-83c4-3e3a4a53f906",
   "metadata": {},
   "outputs": [],
   "source": [
    "new_dataset['hasSpa'] = new_dataset['hasSpa'].astype('int')"
   ]
  },
  {
   "cell_type": "code",
   "execution_count": 125,
   "id": "51e8b341-86bd-46b9-9583-335070ead27d",
   "metadata": {},
   "outputs": [],
   "source": [
    "new_dataset['big_garageSpaces'] = 0\n",
    "new_dataset.loc[new_dataset['garageSpaces'] > 5, 'big_garageSpaces'] = 1\n",
    "new_dataset.loc[new_dataset['garageSpaces'] > 5, 'garageSpaces'] = 5\n",
    "\n",
    "new_dataset['big_numOfPatioAndPorchFeatures'] = 0\n",
    "new_dataset.loc[new_dataset['numOfPatioAndPorchFeatures'] > 5, 'big_numOfPatioAndPorchFeatures'] = 1\n",
    "new_dataset.loc[new_dataset['numOfPatioAndPorchFeatures'] > 5, 'numOfPatioAndPorchFeatures'] = 5\n",
    "\n",
    "new_dataset['big_lotSizeSqFt'] = 0\n",
    "new_dataset.loc[new_dataset['lotSizeSqFt'] > 30000, 'big_lotSizeSqFt'] = 1\n",
    "new_dataset.loc[new_dataset['lotSizeSqFt'] > 30000, 'lotSizeSqFt'] = 30000\n",
    "\n",
    "new_dataset['big_numOfBathrooms'] = 0\n",
    "new_dataset.loc[new_dataset['numOfBathrooms'] > 5, 'big_numOfBathrooms'] = 1\n",
    "new_dataset.loc[new_dataset['numOfBathrooms'] > 5, 'numOfBathrooms'] = 5\n",
    "\n",
    "new_dataset['big_numOfBedrooms'] = 0\n",
    "new_dataset.loc[new_dataset['numOfBedrooms'] > 5, 'big_numOfBedrooms'] = 1\n",
    "new_dataset.loc[new_dataset['numOfBedrooms'] > 5, 'numOfBedrooms'] = 5"
   ]
  },
  {
   "cell_type": "code",
   "execution_count": 126,
   "id": "06bb16ac-40a5-4dfc-a3ff-4a28debe8286",
   "metadata": {},
   "outputs": [],
   "source": [
    "center_austin = (30.2676575,-97.7422388)\n",
    "new_dataset['lat_lng_distance'] = dataset.apply(lambda row: distance.distance(center_austin, (row.latitude, row.longitude)).km, axis=1)"
   ]
  },
  {
   "cell_type": "code",
   "execution_count": 127,
   "id": "8274cf4e-02b6-4a69-858f-3415b9fbdf28",
   "metadata": {},
   "outputs": [],
   "source": [
    "city_encoder = OneHotEncoder().fit(new_dataset[['city']])\n",
    "home_encoder = OneHotEncoder().fit(new_dataset[['homeType']])\n",
    "decade_encoder = OneHotEncoder().fit(new_dataset[['decade']])\n",
    "\n",
    "df_city_enc = pd.DataFrame(city_encoder.transform(new_dataset[['city']]).toarray(), columns=city_encoder.get_feature_names_out())\n",
    "df_home_enc = pd.DataFrame(home_encoder.transform(new_dataset[['homeType']]).toarray(), columns=home_encoder.get_feature_names_out())\n",
    "df_decade_enc = pd.DataFrame(decade_encoder.transform(new_dataset[['decade']]).toarray(), columns=decade_encoder.get_feature_names_out())\n",
    "\n",
    "new_dataset = pd.concat([new_dataset, df_city_enc, df_home_enc, df_decade_enc], axis=1)"
   ]
  },
  {
   "cell_type": "code",
   "execution_count": 128,
   "id": "d76673e7-b316-4f65-af6b-cd9ed9f3eead",
   "metadata": {},
   "outputs": [],
   "source": [
    "new_dataset = new_dataset.drop(columns=['uid','latitude','longitude','yearBuilt','city','homeType','decade'])"
   ]
  },
  {
   "cell_type": "code",
   "execution_count": null,
   "id": "9ef483bd-7f25-4f94-bf59-226ad6cd93f9",
   "metadata": {},
   "outputs": [],
   "source": [
    "new_dataset.head(5)"
   ]
  },
  {
   "cell_type": "markdown",
   "id": "ee9ad9fc-ea68-4a2d-8438-fe404e49a9c1",
   "metadata": {},
   "source": [
    "# Train Split"
   ]
  },
  {
   "cell_type": "code",
   "execution_count": 77,
   "id": "8d3ddcdb-0570-4197-b0f8-b158bb096def",
   "metadata": {},
   "outputs": [],
   "source": [
    "from sklearn.model_selection import train_test_split"
   ]
  },
  {
   "cell_type": "code",
   "execution_count": 130,
   "id": "1e11de6c-f0f0-4f52-86aa-e9520c83b110",
   "metadata": {},
   "outputs": [
    {
     "name": "stdout",
     "output_type": "stream",
     "text": [
      "6400\n",
      "2000\n",
      "1600\n"
     ]
    }
   ],
   "source": [
    "train, test = train_test_split(new_dataset, test_size=0.2)\n",
    "train, val = train_test_split(train, test_size=0.2)\n",
    "print(len(train))\n",
    "print(len(test))\n",
    "print(len(val))"
   ]
  },
  {
   "cell_type": "markdown",
   "id": "4e18d23a-5489-4088-b99d-81b1e874b56c",
   "metadata": {},
   "source": [
    "# Normalization"
   ]
  },
  {
   "cell_type": "code",
   "execution_count": 131,
   "id": "95fc200f-f085-4a6c-9463-09758b3f97d0",
   "metadata": {},
   "outputs": [
    {
     "data": {
      "text/html": [
       "<style>#sk-container-id-4 {color: black;}#sk-container-id-4 pre{padding: 0;}#sk-container-id-4 div.sk-toggleable {background-color: white;}#sk-container-id-4 label.sk-toggleable__label {cursor: pointer;display: block;width: 100%;margin-bottom: 0;padding: 0.3em;box-sizing: border-box;text-align: center;}#sk-container-id-4 label.sk-toggleable__label-arrow:before {content: \"▸\";float: left;margin-right: 0.25em;color: #696969;}#sk-container-id-4 label.sk-toggleable__label-arrow:hover:before {color: black;}#sk-container-id-4 div.sk-estimator:hover label.sk-toggleable__label-arrow:before {color: black;}#sk-container-id-4 div.sk-toggleable__content {max-height: 0;max-width: 0;overflow: hidden;text-align: left;background-color: #f0f8ff;}#sk-container-id-4 div.sk-toggleable__content pre {margin: 0.2em;color: black;border-radius: 0.25em;background-color: #f0f8ff;}#sk-container-id-4 input.sk-toggleable__control:checked~div.sk-toggleable__content {max-height: 200px;max-width: 100%;overflow: auto;}#sk-container-id-4 input.sk-toggleable__control:checked~label.sk-toggleable__label-arrow:before {content: \"▾\";}#sk-container-id-4 div.sk-estimator input.sk-toggleable__control:checked~label.sk-toggleable__label {background-color: #d4ebff;}#sk-container-id-4 div.sk-label input.sk-toggleable__control:checked~label.sk-toggleable__label {background-color: #d4ebff;}#sk-container-id-4 input.sk-hidden--visually {border: 0;clip: rect(1px 1px 1px 1px);clip: rect(1px, 1px, 1px, 1px);height: 1px;margin: -1px;overflow: hidden;padding: 0;position: absolute;width: 1px;}#sk-container-id-4 div.sk-estimator {font-family: monospace;background-color: #f0f8ff;border: 1px dotted black;border-radius: 0.25em;box-sizing: border-box;margin-bottom: 0.5em;}#sk-container-id-4 div.sk-estimator:hover {background-color: #d4ebff;}#sk-container-id-4 div.sk-parallel-item::after {content: \"\";width: 100%;border-bottom: 1px solid gray;flex-grow: 1;}#sk-container-id-4 div.sk-label:hover label.sk-toggleable__label {background-color: #d4ebff;}#sk-container-id-4 div.sk-serial::before {content: \"\";position: absolute;border-left: 1px solid gray;box-sizing: border-box;top: 0;bottom: 0;left: 50%;z-index: 0;}#sk-container-id-4 div.sk-serial {display: flex;flex-direction: column;align-items: center;background-color: white;padding-right: 0.2em;padding-left: 0.2em;position: relative;}#sk-container-id-4 div.sk-item {position: relative;z-index: 1;}#sk-container-id-4 div.sk-parallel {display: flex;align-items: stretch;justify-content: center;background-color: white;position: relative;}#sk-container-id-4 div.sk-item::before, #sk-container-id-4 div.sk-parallel-item::before {content: \"\";position: absolute;border-left: 1px solid gray;box-sizing: border-box;top: 0;bottom: 0;left: 50%;z-index: -1;}#sk-container-id-4 div.sk-parallel-item {display: flex;flex-direction: column;z-index: 1;position: relative;background-color: white;}#sk-container-id-4 div.sk-parallel-item:first-child::after {align-self: flex-end;width: 50%;}#sk-container-id-4 div.sk-parallel-item:last-child::after {align-self: flex-start;width: 50%;}#sk-container-id-4 div.sk-parallel-item:only-child::after {width: 0;}#sk-container-id-4 div.sk-dashed-wrapped {border: 1px dashed gray;margin: 0 0.4em 0.5em 0.4em;box-sizing: border-box;padding-bottom: 0.4em;background-color: white;}#sk-container-id-4 div.sk-label label {font-family: monospace;font-weight: bold;display: inline-block;line-height: 1.2em;}#sk-container-id-4 div.sk-label-container {text-align: center;}#sk-container-id-4 div.sk-container {/* jupyter's `normalize.less` sets `[hidden] { display: none; }` but bootstrap.min.css set `[hidden] { display: none !important; }` so we also need the `!important` here to be able to override the default hidden behavior on the sphinx rendered scikit-learn.org. See: https://github.com/scikit-learn/scikit-learn/issues/21755 */display: inline-block !important;position: relative;}#sk-container-id-4 div.sk-text-repr-fallback {display: none;}</style><div id=\"sk-container-id-4\" class=\"sk-top-container\"><div class=\"sk-text-repr-fallback\"><pre>StandardScaler()</pre><b>In a Jupyter environment, please rerun this cell to show the HTML representation or trust the notebook. <br />On GitHub, the HTML representation is unable to render, please try loading this page with nbviewer.org.</b></div><div class=\"sk-container\" hidden><div class=\"sk-item\"><div class=\"sk-estimator sk-toggleable\"><input class=\"sk-toggleable__control sk-hidden--visually\" id=\"sk-estimator-id-4\" type=\"checkbox\" checked><label for=\"sk-estimator-id-4\" class=\"sk-toggleable__label sk-toggleable__label-arrow\">StandardScaler</label><div class=\"sk-toggleable__content\"><pre>StandardScaler()</pre></div></div></div></div></div>"
      ],
      "text/plain": [
       "StandardScaler()"
      ]
     },
     "execution_count": 131,
     "metadata": {},
     "output_type": "execute_result"
    }
   ],
   "source": [
    "arr_norm = ['garageSpaces','age','numOfPatioAndPorchFeatures','lotSizeSqFt','avgSchoolRating','MedianStudentsPerTeacher','numOfBathrooms','numOfBedrooms']\n",
    "\n",
    "std_scaler = StandardScaler()\n",
    "std_scaler.fit(train[arr_norm])"
   ]
  },
  {
   "cell_type": "code",
   "execution_count": 132,
   "id": "fa2ccbfe-8d74-4c4a-bf04-0a4ad0274a20",
   "metadata": {},
   "outputs": [],
   "source": [
    "train[arr_norm] = std_scaler.transform(train[arr_norm])\n",
    "test[arr_norm] = std_scaler.transform(test[arr_norm])\n",
    "val[arr_norm] = std_scaler.transform(val[arr_norm])"
   ]
  },
  {
   "cell_type": "code",
   "execution_count": null,
   "id": "89446ab3-a9d4-43de-be27-03064baf67fc",
   "metadata": {},
   "outputs": [],
   "source": [
    "train.head()"
   ]
  },
  {
   "cell_type": "markdown",
   "id": "a8c42f0e-9017-4bce-ac5b-954a85978b8c",
   "metadata": {},
   "source": [
    "# NLP"
   ]
  },
  {
   "cell_type": "code",
   "execution_count": 133,
   "id": "68e82948-0fb9-4654-bafd-bee3b3d6fff1",
   "metadata": {},
   "outputs": [],
   "source": [
    "vocab_size = 100\n",
    "vectorize_layer = tf.keras.layers.TextVectorization(max_tokens=vocab_size, ngrams=2, standardize='lower_and_strip_punctuation', split='whitespace', output_mode='tf_idf')\n",
    "vectorize_layer.adapt(train['description'])"
   ]
  },
  {
   "cell_type": "markdown",
   "id": "7fc16a75-613c-4690-b541-3a66d93961f1",
   "metadata": {},
   "source": [
    "# Relevant Features"
   ]
  },
  {
   "cell_type": "code",
   "execution_count": 137,
   "id": "ae4ced73-453f-4d95-849e-1a1905a588b7",
   "metadata": {},
   "outputs": [
    {
     "data": {
      "text/plain": [
       "garageSpaces                      0.182569\n",
       "hasSpa                            0.170146\n",
       "numOfPatioAndPorchFeatures        0.154099\n",
       "lotSizeSqFt                       0.403620\n",
       "avgSchoolRating                   0.503159\n",
       "MedianStudentsPerTeacher          0.390113\n",
       "numOfBathrooms                    0.467260\n",
       "numOfBedrooms                     0.359399\n",
       "priceRange                        1.000000\n",
       "age                               0.025807\n",
       "big_garageSpaces                  0.031610\n",
       "big_numOfPatioAndPorchFeatures    0.018921\n",
       "big_lotSizeSqFt                   0.223700\n",
       "big_numOfBathrooms                0.157574\n",
       "big_numOfBedrooms                 0.055928\n",
       "lat_lng_distance                 -0.100424\n",
       "city_austin                       0.091527\n",
       "city_del valle                   -0.117288\n",
       "city_driftwood                    0.044589\n",
       "city_dripping springs             0.025735\n",
       "city_manchaca                    -0.008334\n",
       "city_pflugerville                -0.051236\n",
       "city_west lake hills              0.025735\n",
       "homeType_Apartment               -0.003727\n",
       "homeType_Condo                   -0.063056\n",
       "homeType_Mobile / Manufactured   -0.018375\n",
       "homeType_MultiFamily              0.014830\n",
       "homeType_Multiple Occupancy      -0.016018\n",
       "homeType_Other                    0.018921\n",
       "homeType_Residential              0.015231\n",
       "homeType_Single Family            0.056206\n",
       "homeType_Townhouse               -0.011014\n",
       "homeType_Vacant Land             -0.008334\n",
       "decade_0.0                        0.025958\n",
       "decade_1.0                        0.045860\n",
       "decade_2.0                        0.042401\n",
       "decade_3.0                        0.088470\n",
       "decade_4.0                        0.076422\n",
       "decade_5.0                        0.070628\n",
       "decade_6.0                        0.001418\n",
       "decade_7.0                       -0.093343\n",
       "decade_8.0                       -0.144188\n",
       "decade_9.0                        0.036115\n",
       "decade_10.0                      -0.019661\n",
       "decade_11.0                       0.064570\n",
       "decade_12.0                       0.082918\n",
       "Name: priceRange, dtype: float64"
      ]
     },
     "execution_count": 137,
     "metadata": {},
     "output_type": "execute_result"
    }
   ],
   "source": [
    "train.corr()['priceRange']"
   ]
  },
  {
   "cell_type": "markdown",
   "id": "eca7ede4-0daa-4394-b592-b71c60a22ffa",
   "metadata": {},
   "source": [
    "# Datasets"
   ]
  },
  {
   "cell_type": "code",
   "execution_count": 141,
   "id": "b986580e-2740-4172-9730-1105e6680456",
   "metadata": {},
   "outputs": [],
   "source": [
    "ds_train = tf.data.Dataset.from_tensor_slices(((vectorize_layer(train['description'].values), train.drop(columns=['description','priceRange']).values), train['priceRange'].values)).batch(100)\n",
    "ds_val = tf.data.Dataset.from_tensor_slices(((vectorize_layer(val['description'].values), val.drop(columns=['description','priceRange']).values), val['priceRange'].values)).batch(100)\n",
    "ds_test = tf.data.Dataset.from_tensor_slices(((vectorize_layer(test['description'].values), test.drop(columns=['description','priceRange']).values), test['priceRange'].values)).batch(100)"
   ]
  },
  {
   "cell_type": "code",
   "execution_count": 142,
   "id": "dc02c0e5-5e74-436b-9c0d-b2b5835708f5",
   "metadata": {},
   "outputs": [
    {
     "name": "stdout",
     "output_type": "stream",
     "text": [
      "(100, 100)\n",
      "(100, 45)\n",
      "(100,)\n"
     ]
    }
   ],
   "source": [
    "for (t, x), y in ds_train.take(1):\n",
    "    print(t.shape)\n",
    "    print(x.shape)\n",
    "    print(y.shape)"
   ]
  },
  {
   "cell_type": "markdown",
   "id": "2666ef4e-66fd-4093-8645-77b75c9a7049",
   "metadata": {},
   "source": [
    "# Model"
   ]
  },
  {
   "cell_type": "code",
   "execution_count": 155,
   "id": "67dd81bd-959f-4567-93da-2394cc8fb8cf",
   "metadata": {},
   "outputs": [],
   "source": [
    "nlp_input = keras.Input(shape=(100,))\n",
    "mlp_input = keras.Input(shape=(45,))\n",
    "\n",
    "x = keras.layers.Dense(64, activation='relu')(nlp_input)\n",
    "x = keras.layers.Dropout(0.2)(x)\n",
    "\n",
    "x = keras.layers.Concatenate()([x, mlp_input])\n",
    "\n",
    "x = keras.layers.Dense(64, activation='relu')(x)\n",
    "x = keras.layers.Dropout(0.2)(x)\n",
    "\n",
    "x = keras.layers.Dense(5, activation='softmax')(x)\n",
    "\n",
    "model = keras.Model(inputs=[nlp_input, mlp_input], outputs=[x])\n",
    "model.compile(optimizer='adam', loss='sparse_categorical_crossentropy', metrics=['accuracy'])"
   ]
  },
  {
   "cell_type": "code",
   "execution_count": null,
   "id": "fd6b7ae3-88b8-444f-abe3-fa619071dbb0",
   "metadata": {},
   "outputs": [
    {
     "name": "stdout",
     "output_type": "stream",
     "text": [
      "Model: \"model_2\"\n",
      "__________________________________________________________________________________________________\n",
      " Layer (type)                   Output Shape         Param #     Connected to                     \n",
      "==================================================================================================\n",
      " input_9 (InputLayer)           [(None, 100)]        0           []                               \n",
      "                                                                                                  \n",
      " dense_10 (Dense)               (None, 64)           6464        ['input_9[0][0]']                \n",
      "                                                                                                  \n",
      " dropout_6 (Dropout)            (None, 64)           0           ['dense_10[0][0]']               \n",
      "                                                                                                  \n",
      " input_10 (InputLayer)          [(None, 45)]         0           []                               \n",
      "                                                                                                  \n",
      " concatenate_4 (Concatenate)    (None, 109)          0           ['dropout_6[0][0]',              \n",
      "                                                                  'input_10[0][0]']               \n",
      "                                                                                                  \n",
      " dense_11 (Dense)               (None, 64)           7040        ['concatenate_4[0][0]']          \n",
      "                                                                                                  \n",
      " dropout_7 (Dropout)            (None, 64)           0           ['dense_11[0][0]']               \n",
      "                                                                                                  \n",
      " dense_12 (Dense)               (None, 5)            325         ['dropout_7[0][0]']              \n",
      "                                                                                                  \n",
      "==================================================================================================\n",
      "Total params: 13,829\n",
      "Trainable params: 13,829\n",
      "Non-trainable params: 0\n",
      "__________________________________________________________________________________________________\n"
     ]
    }
   ],
   "source": [
    "model.summary()"
   ]
  },
  {
   "cell_type": "markdown",
   "id": "03c9ec55-748d-4d0b-beb8-9808c94d93d5",
   "metadata": {},
   "source": [
    "# Training"
   ]
  },
  {
   "cell_type": "code",
   "execution_count": 156,
   "id": "effcfd54-1f56-4704-9fea-0c04f21e50ed",
   "metadata": {},
   "outputs": [
    {
     "name": "stdout",
     "output_type": "stream",
     "text": [
      "CPU times: total: 8.66 s\n",
      "Wall time: 7.57 s\n"
     ]
    }
   ],
   "source": [
    "%%time\n",
    "history = model.fit(ds_train, validation_data=ds_val, epochs=50, verbose=0)"
   ]
  },
  {
   "cell_type": "code",
   "execution_count": 157,
   "id": "162ab81a-7c65-4f6c-b5f3-b6cfa4f64033",
   "metadata": {},
   "outputs": [
    {
     "name": "stdout",
     "output_type": "stream",
     "text": [
      "64/64 [==============================] - 0s 1ms/step - loss: 0.9498 - accuracy: 0.6047\n",
      "16/16 [==============================] - 0s 2ms/step - loss: 1.0592 - accuracy: 0.5431\n",
      "20/20 [==============================] - 0s 1ms/step - loss: 1.0854 - accuracy: 0.5350\n"
     ]
    },
    {
     "data": {
      "text/plain": [
       "[1.085424542427063, 0.5350000262260437]"
      ]
     },
     "execution_count": 157,
     "metadata": {},
     "output_type": "execute_result"
    }
   ],
   "source": [
    "model.evaluate(ds_train)\n",
    "model.evaluate(ds_val)\n",
    "model.evaluate(ds_test)"
   ]
  },
  {
   "cell_type": "code",
   "execution_count": 158,
   "id": "c8588197-912d-402c-9a88-f5f8c0ea69b6",
   "metadata": {},
   "outputs": [
    {
     "data": {
      "text/plain": [
       "<matplotlib.legend.Legend at 0x241f61671c0>"
      ]
     },
     "execution_count": 158,
     "metadata": {},
     "output_type": "execute_result"
    },
    {
     "data": {
      "image/png": "[encoded data removed]",
      "text/plain": [
       "<Figure size 640x480 with 1 Axes>"
      ]
     },
     "metadata": {},
     "output_type": "display_data"
    }
   ],
   "source": [
    "plt.plot(history.history['loss'], label='loss')\n",
    "plt.plot(history.history['val_loss'], label='val_loss')\n",
    "plt.plot(history.history['accuracy'], label='accuracy')\n",
    "plt.plot(history.history['val_accuracy'], label='val_accuracy')\n",
    "plt.legend()"
   ]
  },
  {
   "cell_type": "code",
   "execution_count": 163,
   "id": "a93310a4-6761-46fd-bcc3-0b7836cab543",
   "metadata": {},
   "outputs": [
    {
     "name": "stdout",
     "output_type": "stream",
     "text": [
      "16/16 [==============================] - 0s 2ms/step\n"
     ]
    }
   ],
   "source": [
    "matrix = sklearn.metrics.confusion_matrix(val['priceRange'], model.predict(ds_val).argmax(axis=1))"
   ]
  },
  {
   "cell_type": "code",
   "execution_count": 164,
   "id": "3cd5b265-03d2-4771-b769-538b8f74383b",
   "metadata": {},
   "outputs": [
    {
     "data": {
      "text/plain": [
       "<sklearn.metrics._plot.confusion_matrix.ConfusionMatrixDisplay at 0x241f60061c0>"
      ]
     },
     "execution_count": 164,
     "metadata": {},
     "output_type": "execute_result"
    },
    {
     "data": {
      "image/png": "[encoded data removed]",
      "text/plain": [
       "<Figure size 640x480 with 2 Axes>"
      ]
     },
     "metadata": {},
     "output_type": "display_data"
    }
   ],
   "source": [
    "sklearn.metrics.ConfusionMatrixDisplay(matrix).plot()"
   ]
  },
  {
   "cell_type": "markdown",
   "id": "e0014ff1-fcab-425e-b3b9-d9f6e96dd92a",
   "metadata": {},
   "source": [
    "# Export"
   ]
  },
  {
   "cell_type": "code",
   "execution_count": 165,
   "id": "aa4ceeac-5496-4a5d-ba54-18d7500c6e3d",
   "metadata": {},
   "outputs": [],
   "source": [
    "import joblib"
   ]
  },
  {
   "cell_type": "code",
   "execution_count": 166,
   "id": "6b726f17-d1b1-4a48-8999-14b6d7c55a68",
   "metadata": {},
   "outputs": [],
   "source": [
    "model.save('pricemodel.h5')"
   ]
  },
  {
   "cell_type": "code",
   "execution_count": 171,
   "id": "42015c1d-e004-477c-b951-62109a9f7501",
   "metadata": {},
   "outputs": [
    {
     "data": {
      "text/plain": [
       "['vectorize_layer.gz']"
      ]
     },
     "execution_count": 171,
     "metadata": {},
     "output_type": "execute_result"
    }
   ],
   "source": [
    "joblib.dump(label_encoder, 'label_encoder.gz')\n",
    "joblib.dump(city_encoder, 'city_encoder.gz')\n",
    "joblib.dump(home_encoder, 'home_encoder.gz')\n",
    "joblib.dump(decade_encoder, 'decade_encoder.gz')\n",
    "joblib.dump(std_scaler, 'std_scaler.gz')\n",
    "joblib.dump({'config': vectorize_layer.get_config(), 'weights': vectorize_layer.get_weights()}, 'vectorize_layer.gz')"
   ]
  },
  {
   "cell_type": "markdown",
   "id": "170d3bc0-45a3-4f92-9e48-3ca4c533ee09",
   "metadata": {},
   "source": [
    "# Prediction"
   ]
  },
  {
   "cell_type": "code",
   "execution_count": 191,
   "id": "1931c753-dcd4-45c2-8054-21dd36e0e147",
   "metadata": {},
   "outputs": [],
   "source": [
    "# pred_data = dict = {}\n",
    "def preprocess_data(pred_data):\n",
    "    city_encoder = joblib.load('city_encoder.gz')\n",
    "    home_encoder = joblib.load('home_encoder.gz')\n",
    "    decade_encoder = joblib.load('decade_encoder.gz')\n",
    "    std_scaler = joblib.load('std_scaler.gz')\n",
    "    \n",
    "    vec_config = joblib.load('vectorize_layer.gz')\n",
    "    print(vec_config['config'])\n",
    "    vectorize_layer = tf.keras.layers.TextVectorization.from_config(vec_config['config'])\n",
    "    vectorize_layer.set_weights(vec_config['weights'])\n",
    "    \n",
    "    pred_df = pd.DataFrame.from_dict(pred_data)\n",
    "    \n",
    "    pred_df['age'] = 2024 - pred_df['yearBuilt']\n",
    "    pred_df['decade'] = np.floor((pred_df['yearBuilt']-1900)/10)\n",
    "    \n",
    "    pred_df['hasSpa'] = pred_df['hasSpa'].astype('int')\n",
    "    \n",
    "    pred_df['big_garageSpaces'] = 0\n",
    "    pred_df.loc[pred_df['garageSpaces'] > 5, 'big_garageSpaces'] = 1\n",
    "    pred_df.loc[pred_df['garageSpaces'] > 5, 'garageSpaces'] = 5\n",
    "\n",
    "    pred_df['big_numOfPatioAndPorchFeatures'] = 0\n",
    "    pred_df.loc[pred_df['numOfPatioAndPorchFeatures'] > 5, 'big_numOfPatioAndPorchFeatures'] = 1\n",
    "    pred_df.loc[pred_df['numOfPatioAndPorchFeatures'] > 5, 'numOfPatioAndPorchFeatures'] = 5\n",
    "\n",
    "    pred_df['big_lotSizeSqFt'] = 0\n",
    "    pred_df.loc[pred_df['lotSizeSqFt'] > 30000, 'big_lotSizeSqFt'] = 1\n",
    "    pred_df.loc[pred_df['lotSizeSqFt'] > 30000, 'lotSizeSqFt'] = 30000\n",
    "\n",
    "    pred_df['big_numOfBathrooms'] = 0\n",
    "    pred_df.loc[pred_df['numOfBathrooms'] > 5, 'big_numOfBathrooms'] = 1\n",
    "    pred_df.loc[pred_df['numOfBathrooms'] > 5, 'numOfBathrooms'] = 5\n",
    "\n",
    "    pred_df['big_numOfBedrooms'] = 0\n",
    "    pred_df.loc[pred_df['numOfBedrooms'] > 5, 'big_numOfBedrooms'] = 1\n",
    "    pred_df.loc[pred_df['numOfBedrooms'] > 5, 'numOfBedrooms'] = 5\n",
    "    \n",
    "    center_austin = (30.2676575,-97.7422388)\n",
    "    pred_df['lat_lng_distance'] = pred_df.apply(lambda row: distance.distance(center_austin, (row.latitude, row.longitude)).km, axis=1)\n",
    "    \n",
    "    df_city_enc = pd.DataFrame(city_encoder.transform(pred_df[['city']]).toarray(), columns=city_encoder.get_feature_names_out())\n",
    "    df_home_enc = pd.DataFrame(home_encoder.transform(pred_df[['homeType']]).toarray(), columns=home_encoder.get_feature_names_out())\n",
    "    df_decade_enc = pd.DataFrame(decade_encoder.transform(pred_df[['decade']]).toarray(), columns=decade_encoder.get_feature_names_out())\n",
    "\n",
    "    pred_df = pd.concat([pred_df, df_city_enc, df_home_enc, df_decade_enc], axis=1)\n",
    "    \n",
    "    pred_df = pred_df.drop(columns=['uid','latitude','longitude','yearBuilt','city','homeType','decade'])\n",
    "    \n",
    "    arr_norm = ['garageSpaces','age','numOfPatioAndPorchFeatures','lotSizeSqFt','avgSchoolRating','MedianStudentsPerTeacher','numOfBathrooms','numOfBedrooms']\n",
    "    pred_df[arr_norm] = std_scaler.transform(pred_df[arr_norm])\n",
    "    \n",
    "    return tf.data.Dataset.from_tensor_slices(((vectorize_layer(pred_df['description'].values), pred_df.drop(columns=['description']).values),)).batch(100)\n",
    "\n",
    "def predict_price(pred_dataset):\n",
    "    model = tf.keras.models.load_model('pricemodel.h5')\n",
    "    return model.predict(pred_dataset).argmax(axis=1)"
   ]
  },
  {
   "cell_type": "markdown",
   "id": "fd7c00e8-133f-4fbf-aa95-371cae9e81b9",
   "metadata": {},
   "source": [
    "# Example of Prediction"
   ]
  },
  {
   "cell_type": "code",
   "execution_count": 199,
   "id": "3b2a4ddf-c6f7-4794-aeb1-cd54cf8dc4cb",
   "metadata": {},
   "outputs": [
    {
     "name": "stdout",
     "output_type": "stream",
     "text": [
      "{'name': 'text_vectorization_2', 'trainable': True, 'batch_input_shape': (None, None), 'dtype': 'string', 'max_tokens': 100, 'standardize': 'lower_and_strip_punctuation', 'split': 'whitespace', 'ngrams': 2, 'output_mode': 'tf_idf', 'output_sequence_length': None, 'pad_to_max_tokens': False, 'sparse': False, 'ragged': False, 'vocabulary': None, 'idf_weights': None}\n"
     ]
    }
   ],
   "source": [
    "new_ds = preprocess_data(dataset[:100].drop(columns=['priceRange']).to_dict())"
   ]
  },
  {
   "cell_type": "code",
   "execution_count": 200,
   "id": "39c86168-6e8c-4352-bde3-829fc631fc7c",
   "metadata": {},
   "outputs": [
    {
     "name": "stdout",
     "output_type": "stream",
     "text": [
      "1/1 [==============================] - 0s 43ms/step\n"
     ]
    }
   ],
   "source": [
    "new_preds = predict_price(new_ds)"
   ]
  },
  {
   "cell_type": "code",
   "execution_count": 201,
   "id": "1a4b83a8-c3a9-42c1-86bf-d35e1c968825",
   "metadata": {},
   "outputs": [],
   "source": [
    "label_encoder = joblib.load('label_encoder.gz')\n",
    "new_labls = label_encoder.inverse_transform(np.expand_dims(new_preds, axis=1))"
   ]
  },
  {
   "cell_type": "code",
   "execution_count": 202,
   "id": "8a761b8b-6aa7-404a-b1ba-129cd47e277e",
   "metadata": {},
   "outputs": [
    {
     "data": {
      "text/plain": [
       "<sklearn.metrics._plot.confusion_matrix.ConfusionMatrixDisplay at 0x241f0025fa0>"
      ]
     },
     "execution_count": 202,
     "metadata": {},
     "output_type": "execute_result"
    },
    {
     "data": {
      "image/png": "[encoded data removed]",
      "text/plain": [
       "<Figure size 640x480 with 2 Axes>"
      ]
     },
     "metadata": {},
     "output_type": "display_data"
    }
   ],
   "source": [
    "matrix = sklearn.metrics.confusion_matrix(dataset[:100]['priceRange'], new_labls)\n",
    "sklearn.metrics.ConfusionMatrixDisplay(matrix).plot()"
   ]
  }
 ],
 "metadata": {
  "kernelspec": {
   "display_name": "Python 3 (ipykernel)",
   "language": "python",
   "name": "python3"
  },
  "language_info": {
   "codemirror_mode": {
    "name": "ipython",
    "version": 3
   },
   "file_extension": ".py",
   "mimetype": "text/x-python",
   "name": "python",
   "nbconvert_exporter": "python",
   "pygments_lexer": "ipython3",
   "version": "3.9.7"
  }
 },
 "nbformat": 4,
 "nbformat_minor": 5
}
